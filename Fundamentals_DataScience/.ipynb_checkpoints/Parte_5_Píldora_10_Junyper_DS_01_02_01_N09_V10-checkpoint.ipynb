{
 "cells": [
  {
   "cell_type": "markdown",
   "metadata": {
    "id": "TP4gk8Om2sYy"
   },
   "source": [
    "![TheBridge_Python_v0.png](attachment:TheBridge_Python_v0.png)"
   ]
  },
  {
   "cell_type": "markdown",
   "metadata": {
    "id": "7UzVg1RD2sY8"
   },
   "source": [
    "##  Argumentos clave-valor"
   ]
  },
  {
   "cell_type": "markdown",
   "metadata": {
    "id": "CYJFh98l2sY9"
   },
   "source": [
    "### Contenidos"
   ]
  },
  {
   "cell_type": "markdown",
   "metadata": {
    "id": "Aw0bp3Z12sY_"
   },
   "source": [
    "* [Combinar `*args` con `**kwargs`](#Combinar-`*args`-con-`**kwargs`)\n",
    "* [Argumentos keyword](#Argumentos-keyword)\n"
   ]
  },
  {
   "cell_type": "markdown",
   "metadata": {
    "id": "CwOixbPt2sZA"
   },
   "source": [
    "\n",
    "Para terminar con las diferentes posibilidades que ofrecen los argumentos de las funciones, vamos a tratar los argumentos clave-valor.  \n",
    "\n",
    "Es decir, tenemos también la opción de introducir un diccionario como argumentos, de esta forma, aunque el numero de argumentos sea variable, tendremos un inidicador, la clave, y el valor de cada clave.\n",
    "\n",
    "Se implementa con `**`"
   ]
  },
  {
   "cell_type": "code",
   "execution_count": 2,
   "metadata": {
    "id": "W34AWnGr2sZC"
   },
   "outputs": [
    {
     "name": "stdout",
     "output_type": "stream",
     "text": [
      "{'marca': 'samsung', 'modelo': 'S20', 'camara': '24MPX'}\n",
      "<class 'dict'>\n"
     ]
    }
   ],
   "source": [
    "def insertar_movil_bd(**clave_valor):\n",
    "    print(clave_valor)\n",
    "    print(type(clave_valor))\n",
    "\n",
    "insertar_movil_bd(marca = 'samsung', modelo = 'S20', camara = '24MPX')\n"
   ]
  },
  {
   "cell_type": "code",
   "execution_count": 3,
   "metadata": {},
   "outputs": [
    {
     "name": "stdout",
     "output_type": "stream",
     "text": [
      "marca : samsung\n",
      "modelo : S20\n",
      "camara : 24MPX\n"
     ]
    }
   ],
   "source": [
    "def insertar_movil_bd(**kwargs):\n",
    "    for clave, valor in kwargs.items():\n",
    "        print(clave, ':', valor)\n",
    "        \n",
    "insertar_movil_bd(marca = 'samsung', modelo = 'S20', camara = '24MPX')"
   ]
  },
  {
   "cell_type": "markdown",
   "metadata": {
    "id": "m5wuKWo52sZE"
   },
   "source": [
    "### Combinar `*args` con `**kwargs`\n",
    "[al indice](#Contenidos)  \n",
    "No hay ningun problema en tener un numero variable de argumentos y también argumentos clave-valor, todo ello en la misma función."
   ]
  },
  {
   "cell_type": "code",
   "execution_count": 6,
   "metadata": {
    "id": "TselJb9a2sZH"
   },
   "outputs": [
    {
     "name": "stdout",
     "output_type": "stream",
     "text": [
      "('es muy bueno', 'poca bateria') <class 'tuple'>\n",
      "es muy bueno\n",
      "poca bateria\n",
      "{'marca': 'samsung', 'modelo': 'S20'} <class 'dict'>\n",
      "marca : samsung\n",
      "modelo : S20\n"
     ]
    }
   ],
   "source": [
    "def insertar_movil(*args, **kwargs):\n",
    "    print(args, type(args))\n",
    "    for i in args:\n",
    "        print(i)\n",
    "    print(kwargs, type(kwargs))\n",
    "    for clave, valor in kwargs.items():\n",
    "        print(clave, ':', valor) \n",
    "        \n",
    "insertar_movil('es muy bueno', 'poca bateria', marca = 'samsung', modelo = 'S20')"
   ]
  },
  {
   "cell_type": "code",
   "execution_count": 7,
   "metadata": {},
   "outputs": [
    {
     "ename": "SyntaxError",
     "evalue": "arguments cannot follow var-keyword argument (1400603644.py, line 1)",
     "output_type": "error",
     "traceback": [
      "\u001b[1;36m  Cell \u001b[1;32mIn[7], line 1\u001b[1;36m\u001b[0m\n\u001b[1;33m    def test(**kwargs, *args):\u001b[0m\n\u001b[1;37m                       ^\u001b[0m\n\u001b[1;31mSyntaxError\u001b[0m\u001b[1;31m:\u001b[0m arguments cannot follow var-keyword argument\n"
     ]
    }
   ],
   "source": [
    "def test(**kwargs, *args):\n",
    "    print('hola')"
   ]
  },
  {
   "cell_type": "markdown",
   "metadata": {
    "id": "_GZDP-ih2sZI"
   },
   "source": [
    "### Argumentos keyword\n",
    "[al indice](#Contenidos)  \n",
    "Existe otro tipo de argumentos que son los *keyword*. Se caracterizan porque llevan un valor por defecto, y por tanto, si no usamos dicho argumento en la llamada, dentro de la función tomará el valor que hayamos dejado por defecto.\n",
    "\n",
    "Ten en cuenta que estos argumentos se colocan **al final**"
   ]
  },
  {
   "cell_type": "code",
   "execution_count": 11,
   "metadata": {
    "id": "eVfI31VS2sZJ"
   },
   "outputs": [
    {
     "name": "stdout",
     "output_type": "stream",
     "text": [
      "Su pedido Televisor se entregara el 15-02-2025\n",
      "Pongase en contactos con atencion al cliente\n"
     ]
    }
   ],
   "source": [
    "def pedido_online(pedido, fecha, incidencia=False):\n",
    "    if incidencia == True:\n",
    "        print('Pongase en contactos con atencion al cliente')\n",
    "    else:\n",
    "        print('Su pedido', pedido, 'se entregara el', fecha)\n",
    "\n",
    "pedido_online('Televisor', '15-02-2025')\n",
    "pedido_online('Televisor', '15-02-2025', incidencia=True)"
   ]
  },
  {
   "cell_type": "markdown",
   "metadata": {
    "id": "lGxSDbru2sZK"
   },
   "source": [
    "<table align=\"left\">\n",
    " <tr>\n",
    "     <td style=\"text-align:left\">\n",
    "         <h3>ERRORES con argumentos keyword</h3>\n",
    "         \n",
    " </td></tr>\n",
    "</table>"
   ]
  },
  {
   "cell_type": "code",
   "execution_count": 12,
   "metadata": {
    "id": "KMhmhTZl2sZL"
   },
   "outputs": [
    {
     "ename": "SyntaxError",
     "evalue": "parameter without a default follows parameter with a default (1155090037.py, line 1)",
     "output_type": "error",
     "traceback": [
      "\u001b[1;36m  Cell \u001b[1;32mIn[12], line 1\u001b[1;36m\u001b[0m\n\u001b[1;33m    def pedido_online(pedido, incidencia=False, fecha):\u001b[0m\n\u001b[1;37m                                                ^\u001b[0m\n\u001b[1;31mSyntaxError\u001b[0m\u001b[1;31m:\u001b[0m parameter without a default follows parameter with a default\n"
     ]
    }
   ],
   "source": [
    "def pedido_online(pedido, incidencia=False, fecha):\n",
    "    if incidencia == True:\n",
    "        print('Pongase en contactos con atencion al cliente')\n",
    "    else:\n",
    "        print('Su pedido', pedido, 'se entregara el', fecha)"
   ]
  },
  {
   "cell_type": "code",
   "execution_count": null,
   "metadata": {},
   "outputs": [],
   "source": []
  }
 ],
 "metadata": {
  "colab": {
   "provenance": []
  },
  "kernelspec": {
   "display_name": "Python 3 (ipykernel)",
   "language": "python",
   "name": "python3"
  },
  "language_info": {
   "codemirror_mode": {
    "name": "ipython",
    "version": 3
   },
   "file_extension": ".py",
   "mimetype": "text/x-python",
   "name": "python",
   "nbconvert_exporter": "python",
   "pygments_lexer": "ipython3",
   "version": "3.13.1"
  }
 },
 "nbformat": 4,
 "nbformat_minor": 4
}
