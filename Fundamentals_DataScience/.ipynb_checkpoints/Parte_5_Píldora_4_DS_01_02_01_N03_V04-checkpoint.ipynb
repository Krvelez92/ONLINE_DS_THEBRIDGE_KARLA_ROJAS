{
 "cells": [
  {
   "cell_type": "markdown",
   "metadata": {
    "id": "h1tn1XSh14FC"
   },
   "source": [
    "![TheBridge_Python_v0.png](attachment:TheBridge_Python_v0.png)"
   ]
  },
  {
   "cell_type": "markdown",
   "metadata": {
    "id": "hFa9dBJo14FI"
   },
   "source": [
    "## Colecciones Python: Diccionarios\n"
   ]
  },
  {
   "cell_type": "markdown",
   "metadata": {
    "id": "lM72uPTg14FJ"
   },
   "source": [
    "### Contenidos\n"
   ]
  },
  {
   "cell_type": "markdown",
   "metadata": {
    "id": "Fwu4yyOG14FK"
   },
   "source": [
    "* [Introducción](#Introducción)\n",
    "\n",
    "* [Acceso, modificación, añadir, eliminar](#Acceso,-modificación,-añadir,-eliminar)\n",
    "\n",
    "* [Iterar](#Iterar)\n",
    "\n"
   ]
  },
  {
   "cell_type": "markdown",
   "metadata": {
    "id": "Fq8mGZ9A14FK"
   },
   "source": [
    "### Introducción\n",
    "[al indice](#Contenidos)  \n",
    "\n",
    "En este tipo de colecciones no solo podemos agrupar datos, sino que tenemos la posibilidad de establecer una relación entre los mismos, con la forma **clave: valor**.\n",
    "\n",
    "La sintaxis  es mediante llaves `{}`\n",
    "\n",
    "> nombre_diccionario = {clave1: valor1, clave2: valor2, clave3: valor3}\n",
    "\n",
    "Si veíamos que las listas son elementos mutables y y ordenadas, y las tuplas inmutables y ordenadas, los diccionarios son:\n",
    "\n",
    "* **Mutables**: podemos modificar sus elementos\n",
    "* **Desordenado**: la potencia de acceso de los diccionarios es su formato clave-valor, no su orden. Aun así, el dicionario conserva el orden de los elemento según los vamos insertando.\n",
    "\n",
    "Vamos a declarar un diccionario en el que definiremos elementos de un coche"
   ]
  },
  {
   "cell_type": "code",
   "execution_count": 2,
   "metadata": {
    "id": "F8BWagTp14FM"
   },
   "outputs": [
    {
     "data": {
      "text/plain": [
       "{'color': 'Rojo',\n",
       " 'marca': 'Tesla',\n",
       " 'modelo': 'Cibertruck',\n",
       " 'peso': 3500,\n",
       " 'Cambio Automatico': True}"
      ]
     },
     "execution_count": 2,
     "metadata": {},
     "output_type": "execute_result"
    }
   ],
   "source": [
    "coche_dit = {\n",
    "    'color': 'Rojo',\n",
    "    'marca': 'Tesla',\n",
    "    'modelo': 'Cibertruck',\n",
    "    'peso': 3500,\n",
    "    'Cambio Automatico': True\n",
    "}\n",
    "\n",
    "coche_dit"
   ]
  },
  {
   "cell_type": "markdown",
   "metadata": {
    "id": "5N2_0mRo14FN"
   },
   "source": [
    "Se puede almacenar todo tipo de datos: numero, cadena, booleano, listas, tuplas, diccionarios...\n",
    "\n",
    "Cuando declaremos el diccionario, lo podemos hacer en una sola linea `coche = {\"color\"=\"Gris\", \"marca\"...}`, aunque se recomienda por sencillez a la hora de leer el código, realizar esta acción en varias líneas. Si escribimos el primer elemento y presionamos enter, Jupyter introduce automáticamente la tabulación."
   ]
  },
  {
   "cell_type": "markdown",
   "metadata": {
    "id": "9MeUkBVp14FO"
   },
   "source": [
    "### Acceso, modificación, añadir, eliminar\n",
    "[al indice](#Contenidos)  \n",
    "\n"
   ]
  },
  {
   "cell_type": "code",
   "execution_count": 8,
   "metadata": {
    "id": "u-jDUxPt14FO"
   },
   "outputs": [
    {
     "name": "stdout",
     "output_type": "stream",
     "text": [
      "['Rojo', 'Gris', 'Lila']\n"
     ]
    },
    {
     "data": {
      "text/plain": [
       "dict_values([['Rojo', 'Gris', 'Lila'], 'Tesla', 'Cibertruck', 3500, True])"
      ]
     },
     "execution_count": 8,
     "metadata": {},
     "output_type": "execute_result"
    }
   ],
   "source": [
    "# Acceso\n",
    "print(coche_dit['color'])\n",
    "\n",
    "# Modificar valores\n",
    "coche_dit['color'] = ['Rojo', 'Gris', 'Lila']\n",
    "\n",
    "# Anadir elemento\n",
    "coche_dit['puertas'] = 4\n",
    "\n",
    "# Elimiar elemento\n",
    "del coche_dit['puertas']\n",
    "\n",
    "# Conocer las claves\n",
    "coche_dit.keys()\n",
    "\n",
    "# Conocer valores de dic\n",
    "coche_dit.values()\n"
   ]
  },
  {
   "cell_type": "markdown",
   "metadata": {
    "id": "wH47IcqQ14FP"
   },
   "source": [
    "Para más detalle de los métodos de los diccionario puedes [consultar la documentación](https://www.w3schools.com/python/python_ref_dictionary.asp)"
   ]
  },
  {
   "cell_type": "code",
   "execution_count": 11,
   "metadata": {
    "id": "Oe9ACaUo14FP"
   },
   "outputs": [
    {
     "data": {
      "text/plain": [
       "{'direccion': 'Madrid', 'Tipo': 'Ferreteria'}"
      ]
     },
     "execution_count": 11,
     "metadata": {},
     "output_type": "execute_result"
    }
   ],
   "source": [
    "# Podemos empezar tambien mediante un diccionario vacío\n",
    "tienda = {}\n",
    "tienda['direccion'] = 'Madrid'\n",
    "tienda['Tipo'] = 'Ferreteria'\n",
    "\n",
    "tienda"
   ]
  },
  {
   "cell_type": "markdown",
   "metadata": {
    "id": "IOOyr7Uc14FQ"
   },
   "source": [
    "<table align=\"left\">\n",
    " <tr>\n",
    "     <td style=\"text-align:left\">\n",
    "         <h3>ERRORES en diccionarios</h3>\n",
    "         \n",
    " </td></tr>\n",
    "</table>"
   ]
  },
  {
   "cell_type": "markdown",
   "metadata": {
    "id": "BFmpu_3m14FR"
   },
   "source": [
    "Si hay una clave que no existe en el diccionario, saltará un error.\n",
    "\n",
    "En este caso, el error es bastante intuitivo: `KeyError`, no encuentra la clave"
   ]
  },
  {
   "cell_type": "code",
   "execution_count": 12,
   "metadata": {
    "id": "s7L_Tzx314FR"
   },
   "outputs": [
    {
     "ename": "KeyError",
     "evalue": "'puertas'",
     "output_type": "error",
     "traceback": [
      "\u001b[1;31m---------------------------------------------------------------------------\u001b[0m",
      "\u001b[1;31mKeyError\u001b[0m                                  Traceback (most recent call last)",
      "Cell \u001b[1;32mIn[12], line 1\u001b[0m\n\u001b[1;32m----> 1\u001b[0m \u001b[43mcoche_dit\u001b[49m\u001b[43m[\u001b[49m\u001b[38;5;124;43m'\u001b[39;49m\u001b[38;5;124;43mpuertas\u001b[39;49m\u001b[38;5;124;43m'\u001b[39;49m\u001b[43m]\u001b[49m\n",
      "\u001b[1;31mKeyError\u001b[0m: 'puertas'"
     ]
    }
   ],
   "source": [
    "coche_dit['puertas']"
   ]
  },
  {
   "cell_type": "markdown",
   "metadata": {
    "id": "2SRLu9s014FR"
   },
   "source": [
    "**¿Cómo solventar esto?** Sirmpre tienes la opción de usar el bloque `try/except`, pero en este caso, los diccionarios tienen una solución más elegante: `mi_diccionario.get(clave, valor si no existe)`"
   ]
  },
  {
   "cell_type": "code",
   "execution_count": 13,
   "metadata": {
    "id": "yBGPByEh14FR"
   },
   "outputs": [
    {
     "data": {
      "text/plain": [
       "4"
      ]
     },
     "execution_count": 13,
     "metadata": {},
     "output_type": "execute_result"
    }
   ],
   "source": [
    "num_puerta = coche_dit.get('puertas', 4)\n",
    "num_puerta"
   ]
  },
  {
   "cell_type": "markdown",
   "metadata": {
    "id": "DAG-MXri14FS"
   },
   "source": [
    "### Iterar\n",
    "[al indice](#Contenidos)  \n",
    "\n",
    "Que el diccionario no esté ordenado, no quiere decir que no podamos iterar sus elementos, ya que también es un **interable**, como los son las listas o las tuplas."
   ]
  },
  {
   "cell_type": "code",
   "execution_count": 16,
   "metadata": {
    "id": "_25FjxY914FS"
   },
   "outputs": [
    {
     "name": "stdout",
     "output_type": "stream",
     "text": [
      "color ['Rojo', 'Gris', 'Lila']\n",
      "marca Tesla\n",
      "modelo Cibertruck\n",
      "peso 3500\n",
      "Cambio Automatico True\n"
     ]
    }
   ],
   "source": [
    "for i in coche_dit:\n",
    "    print(i, coche_dit[i])"
   ]
  },
  {
   "cell_type": "code",
   "execution_count": 17,
   "metadata": {
    "id": "qdEI6_Vz14FS"
   },
   "outputs": [
    {
     "data": {
      "text/plain": [
       "dict_items([('color', ['Rojo', 'Gris', 'Lila']), ('marca', 'Tesla'), ('modelo', 'Cibertruck'), ('peso', 3500), ('Cambio Automatico', True)])"
      ]
     },
     "execution_count": 17,
     "metadata": {},
     "output_type": "execute_result"
    }
   ],
   "source": [
    "coche_dit.items() # devuelve una lista con tuplas"
   ]
  },
  {
   "cell_type": "code",
   "execution_count": 18,
   "metadata": {},
   "outputs": [
    {
     "name": "stdout",
     "output_type": "stream",
     "text": [
      "color ['Rojo', 'Gris', 'Lila']\n",
      "marca Tesla\n",
      "modelo Cibertruck\n",
      "peso 3500\n",
      "Cambio Automatico True\n"
     ]
    }
   ],
   "source": [
    "for clave, valor in coche_dit.items():\n",
    "    print(clave, valor)"
   ]
  },
  {
   "cell_type": "code",
   "execution_count": null,
   "metadata": {},
   "outputs": [],
   "source": []
  }
 ],
 "metadata": {
  "colab": {
   "provenance": []
  },
  "kernelspec": {
   "display_name": "Python 3 (ipykernel)",
   "language": "python",
   "name": "python3"
  },
  "language_info": {
   "codemirror_mode": {
    "name": "ipython",
    "version": 3
   },
   "file_extension": ".py",
   "mimetype": "text/x-python",
   "name": "python",
   "nbconvert_exporter": "python",
   "pygments_lexer": "ipython3",
   "version": "3.13.1"
  }
 },
 "nbformat": 4,
 "nbformat_minor": 4
}
