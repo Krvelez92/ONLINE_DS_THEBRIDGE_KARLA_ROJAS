{
 "cells": [
  {
   "cell_type": "markdown",
   "metadata": {
    "id": "PgLVp--O77J1"
   },
   "source": [
    "<img src = \"./img/TheBridge_logo_RGB_color.png\" width = 500>\n",
    "\n",
    "<img src = \"./img/python.jpg\" width = 500>"
   ]
  },
  {
   "cell_type": "markdown",
   "metadata": {
    "id": "HE6olekE77J6"
   },
   "source": [
    "# Python Basics I"
   ]
  },
  {
   "cell_type": "markdown",
   "metadata": {
    "id": "KKnqrlHe77J7"
   },
   "source": [
    "## Contenidos"
   ]
  },
  {
   "cell_type": "markdown",
   "metadata": {
    "id": "BbZ9dUWS77J8"
   },
   "source": [
    "* [Listas](#Listas)\n"
   ]
  },
  {
   "cell_type": "markdown",
   "metadata": {
    "id": "bZ5ApO9O77J9"
   },
   "source": [
    "## Listas\n",
    "[al indice](#Contenidos)  \n",
    "Se trata de otro de los tipos de datos de Python más usados. Dentro de las colecciones, que veremos más adelante, la lista es la colección que normalmente se le da más uso. **Nos permiten almacenar conjuntos de variables u objetos**, y son elementos de lo más versátiles puesto que podemos almacenar objetos de distintos tipos, modificarlos, eliminarlos, meter listas dentro de listas... Sus dos caractrísticas principales son:\n",
    "* **Mutables**: una vez se ha creado la lista, se puede modificar\n",
    "* **Ordenada**: Los elementos tienen un cierto orden, lo que nos permite acceder al elemento que queramos teniendo en cuenta tal orden\n",
    "\n",
    "En cuanto a su sintaxis, cuando declaremos la lista simplemente hay que separar cada elemento con comas, y rodearlo todo con corchetes."
   ]
  },
  {
   "cell_type": "code",
   "execution_count": 3,
   "metadata": {
    "id": "kBDOOWUo77J-"
   },
   "outputs": [
    {
     "name": "stdout",
     "output_type": "stream",
     "text": [
      "[1, 3, 5, 6] <class 'list'>\n",
      "['Esto', 'es', 'una', 'lista'] <class 'list'>\n",
      "[True, False, True, True, False] <class 'list'>\n"
     ]
    }
   ],
   "source": [
    "#lista de numeros\n",
    "numeros = [1, 3, 5, 6]\n",
    "print(numeros, type(numeros))\n",
    "\n",
    "#lista strings\n",
    "strings = ['Esto', 'es', 'una', 'lista']\n",
    "print(strings, type(strings))\n",
    "\n",
    "#lista de bool\n",
    "booleanos = [True, False, True, True or False, False and True]\n",
    "print(booleanos, type(booleanos))"
   ]
  },
  {
   "cell_type": "code",
   "execution_count": 6,
   "metadata": {
    "id": "ypBlNILH77J_"
   },
   "outputs": [
    {
     "name": "stdout",
     "output_type": "stream",
     "text": [
      "[1, 'Esto', True, 'lista'] <class 'list'>\n",
      "['hola', 12, 23, [True, False]] <class 'list'>\n"
     ]
    },
    {
     "data": {
      "text/plain": [
       "4"
      ]
     },
     "execution_count": 6,
     "metadata": {},
     "output_type": "execute_result"
    }
   ],
   "source": [
    "#lista de tipos mezclados\n",
    "mix = [1, 'Esto', True, 'lista']\n",
    "print(mix, type(mix))\n",
    "\n",
    "#listas dentro listas\n",
    "listas = ['hola', 12, 23, [True, False]]\n",
    "print(listas, type(listas))\n",
    "len(listas)"
   ]
  },
  {
   "cell_type": "markdown",
   "metadata": {
    "id": "guXZ_9YT77J_"
   },
   "source": [
    "**NOTA**: ¿Ves por qué los decimales en Python siempre van con puntos y no con comas? Con las colecciones el intérprete de Python se volvería loco.\n",
    "\n",
    "Podemos ver tambien el tipo de la lista"
   ]
  },
  {
   "cell_type": "code",
   "execution_count": 8,
   "metadata": {
    "id": "n8TN-gE577KA"
   },
   "outputs": [
    {
     "name": "stdout",
     "output_type": "stream",
     "text": [
      "[1, 'Esto', True, 'lista', 'hola', 12, 23, [True, False]] <class 'list'>\n",
      "['hola', 12, 23, [True, False], 1, 'Esto', True, 'lista'] <class 'list'>\n"
     ]
    }
   ],
   "source": [
    "concatenacion = mix + listas\n",
    "print(concatenacion, type(concatenacion))\n",
    "\n",
    "concatenacion2 = listas + mix\n",
    "print(concatenacion2, type(concatenacion2))"
   ]
  },
  {
   "cell_type": "markdown",
   "metadata": {
    "id": "0o_XNgGv77KA"
   },
   "source": [
    "Calcular la longitud de la misma mediante el método *built-in* ya visto: `len()`"
   ]
  },
  {
   "cell_type": "code",
   "execution_count": 9,
   "metadata": {
    "id": "5_mCSv4D77KB"
   },
   "outputs": [
    {
     "data": {
      "text/plain": [
       "4"
      ]
     },
     "execution_count": 9,
     "metadata": {},
     "output_type": "execute_result"
    }
   ],
   "source": [
    "len(mix)"
   ]
  },
  {
   "cell_type": "markdown",
   "metadata": {
    "id": "H_edz09H77KB"
   },
   "source": [
    "Accedemos a los elemenos de la lista mediante corchetes `[]`\n",
    "\n",
    "**Importante**. El primer elemento es el 0"
   ]
  },
  {
   "cell_type": "code",
   "execution_count": 14,
   "metadata": {
    "id": "AmuFu0NF77KB"
   },
   "outputs": [
    {
     "name": "stdout",
     "output_type": "stream",
     "text": [
      "esto\n",
      "patata\n",
      "3\n",
      "['esto', 2, 3]\n"
     ]
    },
    {
     "ename": "IndexError",
     "evalue": "list index out of range",
     "output_type": "error",
     "traceback": [
      "\u001b[1;31m---------------------------------------------------------------------------\u001b[0m",
      "\u001b[1;31mIndexError\u001b[0m                                Traceback (most recent call last)",
      "Cell \u001b[1;32mIn[14], line 6\u001b[0m\n\u001b[0;32m      4\u001b[0m \u001b[38;5;28mprint\u001b[39m(lista_ejemplo[\u001b[38;5;241m-\u001b[39m\u001b[38;5;241m2\u001b[39m])\n\u001b[0;32m      5\u001b[0m \u001b[38;5;28mprint\u001b[39m(lista_ejemplo[\u001b[38;5;241m0\u001b[39m:\u001b[38;5;241m3\u001b[39m])\n\u001b[1;32m----> 6\u001b[0m \u001b[38;5;28mprint\u001b[39m(\u001b[43mlista_ejemplo\u001b[49m\u001b[43m[\u001b[49m\u001b[38;5;241;43m13343\u001b[39;49m\u001b[43m]\u001b[49m)\n",
      "\u001b[1;31mIndexError\u001b[0m: list index out of range"
     ]
    }
   ],
   "source": [
    "lista_ejemplo = ['esto', 2, 3, 'patata']\n",
    "print(lista_ejemplo[0])\n",
    "print(lista_ejemplo[-1])\n",
    "print(lista_ejemplo[-2])\n",
    "print(lista_ejemplo[0:3])\n",
    "print(lista_ejemplo[13343])"
   ]
  },
  {
   "cell_type": "markdown",
   "metadata": {
    "id": "hI1Rkh9I77KB"
   },
   "source": [
    "### Metodos en Listas\n",
    "Para el tipo de objeto lista, también hay una serie de métodos catacterísticos que nos permiten operar con ellas: añadir valores, quitarlos, indexado, filtrado, etc... En [este enlace](https://www.w3schools.com/python/python_ref_list.asp) puedes encontrar todos los métodos que podrás usar con listas."
   ]
  },
  {
   "cell_type": "code",
   "execution_count": 21,
   "metadata": {
    "id": "s4KcsKJl77KC"
   },
   "outputs": [
    {
     "name": "stdout",
     "output_type": "stream",
     "text": [
      "['fisica', 'quimica', 'matematicas', 'filosofia']\n",
      "['fisica', 'gimnasia', 'quimica', 'matematicas', 'filosofia']\n",
      "['fisica', 'quimica', 'matematicas', 'filosofia']\n",
      "['fisica', 'quimica', 'matematicas']\n"
     ]
    },
    {
     "ename": "ValueError",
     "evalue": "list.remove(x): x not in list",
     "output_type": "error",
     "traceback": [
      "\u001b[1;31m---------------------------------------------------------------------------\u001b[0m",
      "\u001b[1;31mValueError\u001b[0m                                Traceback (most recent call last)",
      "Cell \u001b[1;32mIn[21], line 23\u001b[0m\n\u001b[0;32m     20\u001b[0m asignaturas\u001b[38;5;241m.\u001b[39mremove(\u001b[38;5;124m'\u001b[39m\u001b[38;5;124mfilosofia\u001b[39m\u001b[38;5;124m'\u001b[39m)\n\u001b[0;32m     21\u001b[0m \u001b[38;5;28mprint\u001b[39m(asignaturas)\n\u001b[1;32m---> 23\u001b[0m \u001b[43masignaturas\u001b[49m\u001b[38;5;241;43m.\u001b[39;49m\u001b[43mremove\u001b[49m\u001b[43m(\u001b[49m\u001b[38;5;124;43m'\u001b[39;49m\u001b[38;5;124;43mcanto\u001b[39;49m\u001b[38;5;124;43m'\u001b[39;49m\u001b[43m)\u001b[49m\n",
      "\u001b[1;31mValueError\u001b[0m: list.remove(x): x not in list"
     ]
    }
   ],
   "source": [
    "asignaturas = ['fisica', 'quimica', 'matematicas']\n",
    "\n",
    "#anadir elemento a lista\n",
    "asignaturas.append('filosofia')\n",
    "print(asignaturas)\n",
    "\n",
    "#anadir elemento en una poscion determinada\n",
    "asignaturas.insert(1, 'gimnasia')\n",
    "print(asignaturas)\n",
    "\n",
    "#vaciar toda la lista\n",
    "#asignaturas.clear()\n",
    "#print(asignaturas)\n",
    "\n",
    "#quitar elemento por indice\n",
    "asignaturas.pop(1)\n",
    "print(asignaturas)\n",
    "\n",
    "#quitar elemento por valor\n",
    "asignaturas.remove('filosofia')\n",
    "print(asignaturas)\n",
    "\n",
    "asignaturas.remove('canto')"
   ]
  },
  {
   "cell_type": "code",
   "execution_count": 22,
   "metadata": {},
   "outputs": [
    {
     "name": "stdout",
     "output_type": "stream",
     "text": [
      "['fisica', 'matematicas', 'quimica']\n"
     ]
    }
   ],
   "source": [
    "#ordenar lista\n",
    "asignaturas.sort()\n",
    "print(asignaturas)"
   ]
  },
  {
   "cell_type": "code",
   "execution_count": null,
   "metadata": {},
   "outputs": [],
   "source": []
  }
 ],
 "metadata": {
  "colab": {
   "provenance": []
  },
  "kernelspec": {
   "display_name": "Python 3 (ipykernel)",
   "language": "python",
   "name": "python3"
  },
  "language_info": {
   "codemirror_mode": {
    "name": "ipython",
    "version": 3
   },
   "file_extension": ".py",
   "mimetype": "text/x-python",
   "name": "python",
   "nbconvert_exporter": "python",
   "pygments_lexer": "ipython3",
   "version": "3.13.1"
  }
 },
 "nbformat": 4,
 "nbformat_minor": 4
}
