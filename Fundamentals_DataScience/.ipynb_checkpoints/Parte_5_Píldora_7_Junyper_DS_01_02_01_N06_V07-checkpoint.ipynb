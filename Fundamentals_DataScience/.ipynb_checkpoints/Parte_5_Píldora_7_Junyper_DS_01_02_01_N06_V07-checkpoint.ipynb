{
 "cells": [
  {
   "cell_type": "markdown",
   "metadata": {
    "id": "z9vX4JZr2TUg"
   },
   "source": [
    "![TheBridge_Python_v0.png](attachment:TheBridge_Python_v0.png)"
   ]
  },
  {
   "cell_type": "markdown",
   "metadata": {
    "id": "v1t8dyyT2TUk"
   },
   "source": [
    "##  Funciones de usuario II"
   ]
  },
  {
   "cell_type": "markdown",
   "metadata": {
    "id": "u8qu4InY2TUk"
   },
   "source": [
    "### Contenidos"
   ]
  },
  {
   "cell_type": "markdown",
   "metadata": {
    "id": "vfuIYp702TUl"
   },
   "source": [
    "* [Return](#Return)\n",
    "\n",
    "* [Tipos de datos de los argumentos](#Tipos-de-datos-de-los-argumentos)\n",
    "\n",
    "* [Errores típicos con funciones](#Errores-típicos-con-funciones)\n",
    "\n"
   ]
  },
  {
   "cell_type": "markdown",
   "metadata": {
    "id": "JaAVfcTY2TUl"
   },
   "source": [
    "### Return\n",
    "[al indice](#Contenidos)  \n",
    "\n",
    "\n",
    "Continuamos con las funciones definidas por el usuario. Recuerda que la sintaxis que vimos en el anterior notebook era:\n",
    "\n",
    "\n",
    "> ```Python\n",
    "> def nombre_funcion(entrada):\n",
    ">    operaciones varias\n",
    ">    return output\n",
    "> ```\n",
    "\n",
    "Hicimos un ejemplo de función que nos devolvía un resultado (output) que podíamos almacenar en una variable... pero las funciones **tampoco tienen por qué llevar un `return`**. No siempre es necesario un output. En tal caso, devuelve `None`"
   ]
  },
  {
   "cell_type": "code",
   "execution_count": 1,
   "metadata": {
    "id": "FCxHS5uJ2TUm"
   },
   "outputs": [
    {
     "name": "stdout",
     "output_type": "stream",
     "text": [
      "18:11:24.461418\n",
      "None <class 'NoneType'>\n"
     ]
    }
   ],
   "source": [
    "from datetime import datetime\n",
    "\n",
    "def que_hora_es():\n",
    "    now = datetime.now().time()\n",
    "    print(now)\n",
    "\n",
    "hora = que_hora_es()\n",
    "print(hora, type(hora)) # su tipo es un nonetype por que no tiene un return"
   ]
  },
  {
   "cell_type": "code",
   "execution_count": 2,
   "metadata": {},
   "outputs": [
    {
     "ename": "NameError",
     "evalue": "name 'now' is not defined",
     "output_type": "error",
     "traceback": [
      "\u001b[1;31m---------------------------------------------------------------------------\u001b[0m",
      "\u001b[1;31mNameError\u001b[0m                                 Traceback (most recent call last)",
      "Cell \u001b[1;32mIn[2], line 1\u001b[0m\n\u001b[1;32m----> 1\u001b[0m \u001b[38;5;28mprint\u001b[39m(\u001b[43mnow\u001b[49m)\n",
      "\u001b[1;31mNameError\u001b[0m: name 'now' is not defined"
     ]
    }
   ],
   "source": [
    "print(now)"
   ]
  },
  {
   "cell_type": "markdown",
   "metadata": {
    "id": "HPw3CRae2TUn"
   },
   "source": [
    "También **puedes poner varias salidas en el return**. En ese caso, si no se especifica nada más la salida de la función será de tipo \"tupla\" (tuple). Pero generalmente los agrupamos en una colección."
   ]
  },
  {
   "cell_type": "code",
   "execution_count": 6,
   "metadata": {
    "id": "Os2g-CQA2TUn"
   },
   "outputs": [],
   "source": [
    "def conversor_km_millas(distancia):\n",
    "    millas = 0.62 * distancia\n",
    "    metros = distancia * 1000\n",
    "    return round(millas,1), millas, metros\n"
   ]
  },
  {
   "cell_type": "code",
   "execution_count": 10,
   "metadata": {},
   "outputs": [
    {
     "name": "stdout",
     "output_type": "stream",
     "text": [
      "(2692.7, 2692.66, 4343000) : <class 'tuple'>\n"
     ]
    }
   ],
   "source": [
    "print(conversor_km_millas(4343), ':', type(conversor_km_millas(4343)))"
   ]
  },
  {
   "cell_type": "code",
   "execution_count": 12,
   "metadata": {},
   "outputs": [],
   "source": [
    "def conversor_km_millas_2(distancia):\n",
    "    millas = 0.62 * distancia\n",
    "    metros = distancia * 1000\n",
    "    return [round(millas,1), millas, metros]"
   ]
  },
  {
   "cell_type": "code",
   "execution_count": 13,
   "metadata": {},
   "outputs": [
    {
     "name": "stdout",
     "output_type": "stream",
     "text": [
      "[2692.7, 2692.66, 4343000] : <class 'list'>\n"
     ]
    }
   ],
   "source": [
    "print(conversor_km_millas_2(4343), ':', type(conversor_km_millas_2(4343)))"
   ]
  },
  {
   "cell_type": "markdown",
   "metadata": {
    "id": "ZvzOx_EW2TUo"
   },
   "source": [
    "### Tipos de datos de los argumentos\n",
    "[al indice](#Contenidos)  \n",
    "\n",
    "Lo que quieras: numeros, texto, listas, tuplas, diccionarios, objetos de clases que hayas definido..."
   ]
  },
  {
   "cell_type": "code",
   "execution_count": 14,
   "metadata": {
    "id": "4pz9jUXl2TUo"
   },
   "outputs": [],
   "source": [
    "def recibe_mix(tupla, lista, dicc):\n",
    "    print('Tupla contiene:')\n",
    "    print(tupla)\n",
    "    print('Es de tipo:', type(tupla))\n",
    "    print('Lista contiene:')\n",
    "    print(lista)\n",
    "    print('Es de tipo:', type(lista))\n",
    "    print('Diccionario contiene:')\n",
    "    print(dicc)\n",
    "    print('Es de tipo:', type(dicc))    \n",
    "    return [type(tupla), type(lista), type(dicc)]"
   ]
  },
  {
   "cell_type": "code",
   "execution_count": 15,
   "metadata": {},
   "outputs": [
    {
     "name": "stdout",
     "output_type": "stream",
     "text": [
      "Tupla contiene:\n",
      "(1, 4, 43)\n",
      "Es de tipo: <class 'tuple'>\n",
      "Lista contiene:\n",
      "[464, 345, 34523]\n",
      "Es de tipo: <class 'list'>\n",
      "Diccionario contiene:\n",
      "{'hola': 'Como estas'}\n",
      "Es de tipo: <class 'dict'>\n",
      "[<class 'tuple'>, <class 'list'>, <class 'dict'>]\n"
     ]
    }
   ],
   "source": [
    "print(recibe_mix((1, 4, 43), [464, 345, 34523], {'hola': 'Como estas'}))\n"
   ]
  },
  {
   "cell_type": "code",
   "execution_count": 16,
   "metadata": {},
   "outputs": [
    {
     "name": "stdout",
     "output_type": "stream",
     "text": [
      "Tupla contiene:\n",
      "1\n",
      "Es de tipo: <class 'int'>\n",
      "Lista contiene:\n",
      "hola\n",
      "Es de tipo: <class 'str'>\n",
      "Diccionario contiene:\n",
      "True\n",
      "Es de tipo: <class 'bool'>\n"
     ]
    },
    {
     "data": {
      "text/plain": [
       "[int, str, bool]"
      ]
     },
     "execution_count": 16,
     "metadata": {},
     "output_type": "execute_result"
    }
   ],
   "source": [
    "recibe_mix(1, 'hola', True)"
   ]
  },
  {
   "cell_type": "markdown",
   "metadata": {
    "id": "0iQcSfbg2TUo"
   },
   "source": [
    "### Errores típicos con funciones\n",
    "[al indice](#Contenidos)  \n",
    "\n"
   ]
  },
  {
   "cell_type": "markdown",
   "metadata": {
    "id": "r_y22XBm2TUo"
   },
   "source": [
    "<table align=\"left\">\n",
    " <tr>\n",
    "     <td style=\"text-align:left\">\n",
    "         <h3>ERRORES variables de la función</h3>\n",
    "         \n",
    " </td></tr>\n",
    "</table>"
   ]
  },
  {
   "cell_type": "code",
   "execution_count": null,
   "metadata": {
    "id": "k73HQ4452TUp"
   },
   "outputs": [],
   "source": [
    "# Todo lo que declaremos dentro de la función se crea UNICAMENTE para la función\n",
    "# Fuera de la misma, esas variables no existen\n"
   ]
  },
  {
   "cell_type": "markdown",
   "metadata": {
    "id": "2EtecauZ2TUp"
   },
   "source": [
    "Se crea un namespace interno dentro de las funciones, es decir, que lo que declaremos dentro, se queda dentro. No lo podremos usar fuera. Además, ten en cuenta que todo lo que introduzcamos dentro de flujos de control (`if/else`, bucles...), nos vale para el resto de la función"
   ]
  },
  {
   "cell_type": "code",
   "execution_count": 17,
   "metadata": {
    "id": "SjGgUFsU2TUp"
   },
   "outputs": [
    {
     "data": {
      "text/plain": [
       "1"
      ]
     },
     "execution_count": 17,
     "metadata": {},
     "output_type": "execute_result"
    }
   ],
   "source": [
    "def numero_ifs(numero):\n",
    "    if numero == 1:\n",
    "        out = 1\n",
    "    return out\n",
    "\n",
    "numero_ifs(1)"
   ]
  },
  {
   "cell_type": "code",
   "execution_count": 18,
   "metadata": {
    "id": "l1yYQwVp2TUp"
   },
   "outputs": [
    {
     "ename": "UnboundLocalError",
     "evalue": "cannot access local variable 'out' where it is not associated with a value",
     "output_type": "error",
     "traceback": [
      "\u001b[1;31m---------------------------------------------------------------------------\u001b[0m",
      "\u001b[1;31mUnboundLocalError\u001b[0m                         Traceback (most recent call last)",
      "Cell \u001b[1;32mIn[18], line 1\u001b[0m\n\u001b[1;32m----> 1\u001b[0m \u001b[43mnumero_ifs\u001b[49m\u001b[43m(\u001b[49m\u001b[38;5;241;43m2\u001b[39;49m\u001b[43m)\u001b[49m\n",
      "Cell \u001b[1;32mIn[17], line 4\u001b[0m, in \u001b[0;36mnumero_ifs\u001b[1;34m(numero)\u001b[0m\n\u001b[0;32m      2\u001b[0m \u001b[38;5;28;01mif\u001b[39;00m numero \u001b[38;5;241m==\u001b[39m \u001b[38;5;241m1\u001b[39m:\n\u001b[0;32m      3\u001b[0m     out \u001b[38;5;241m=\u001b[39m \u001b[38;5;241m1\u001b[39m\n\u001b[1;32m----> 4\u001b[0m \u001b[38;5;28;01mreturn\u001b[39;00m \u001b[43mout\u001b[49m\n",
      "\u001b[1;31mUnboundLocalError\u001b[0m: cannot access local variable 'out' where it is not associated with a value"
     ]
    }
   ],
   "source": [
    "numero_ifs(2)"
   ]
  },
  {
   "cell_type": "code",
   "execution_count": 19,
   "metadata": {
    "id": "tYC6bK3W2TUp"
   },
   "outputs": [
    {
     "ename": "TypeError",
     "evalue": "conversor_km_millas() missing 1 required positional argument: 'distancia'",
     "output_type": "error",
     "traceback": [
      "\u001b[1;31m---------------------------------------------------------------------------\u001b[0m",
      "\u001b[1;31mTypeError\u001b[0m                                 Traceback (most recent call last)",
      "Cell \u001b[1;32mIn[19], line 2\u001b[0m\n\u001b[0;32m      1\u001b[0m \u001b[38;5;66;03m# Si no introducimos argumentos en una función que SI tiene argumentos, salta un error de este estilo\u001b[39;00m\n\u001b[1;32m----> 2\u001b[0m \u001b[43mconversor_km_millas\u001b[49m\u001b[43m(\u001b[49m\u001b[43m)\u001b[49m\n",
      "\u001b[1;31mTypeError\u001b[0m: conversor_km_millas() missing 1 required positional argument: 'distancia'"
     ]
    }
   ],
   "source": [
    "# Si no introducimos argumentos en una función que SI tiene argumentos, salta un error de este estilo\n",
    "conversor_km_millas()"
   ]
  },
  {
   "cell_type": "markdown",
   "metadata": {
    "id": "EGHh-xB62TUq"
   },
   "source": [
    "Cuidado también con la sintaxis de línea. Después de dos puntos `:`, viene todo el bloque de código tabulado, de la función"
   ]
  },
  {
   "cell_type": "code",
   "execution_count": 20,
   "metadata": {
    "id": "QAdY0fJB2TUq"
   },
   "outputs": [
    {
     "ename": "IndentationError",
     "evalue": "expected an indented block after function definition on line 1 (737173368.py, line 2)",
     "output_type": "error",
     "traceback": [
      "\u001b[1;36m  Cell \u001b[1;32mIn[20], line 2\u001b[1;36m\u001b[0m\n\u001b[1;33m    print(i)\u001b[0m\n\u001b[1;37m    ^\u001b[0m\n\u001b[1;31mIndentationError\u001b[0m\u001b[1;31m:\u001b[0m expected an indented block after function definition on line 1\n"
     ]
    }
   ],
   "source": [
    "def mala_funcion(i):\n",
    "print(i)\n",
    "return i\n",
    "\n",
    "mala_funcion(3)"
   ]
  },
  {
   "cell_type": "code",
   "execution_count": null,
   "metadata": {
    "id": "bh4LkvAm2TUq"
   },
   "outputs": [],
   "source": []
  }
 ],
 "metadata": {
  "colab": {
   "provenance": []
  },
  "kernelspec": {
   "display_name": "Python 3 (ipykernel)",
   "language": "python",
   "name": "python3"
  },
  "language_info": {
   "codemirror_mode": {
    "name": "ipython",
    "version": 3
   },
   "file_extension": ".py",
   "mimetype": "text/x-python",
   "name": "python",
   "nbconvert_exporter": "python",
   "pygments_lexer": "ipython3",
   "version": "3.13.1"
  }
 },
 "nbformat": 4,
 "nbformat_minor": 4
}
