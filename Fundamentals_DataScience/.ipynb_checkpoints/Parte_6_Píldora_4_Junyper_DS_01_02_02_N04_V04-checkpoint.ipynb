{
 "cells": [
  {
   "cell_type": "markdown",
   "metadata": {
    "id": "3f8dcuNZu7kX"
   },
   "source": [
    "![TheBridge_Python_v0.png](attachment:TheBridge_Python_v0.png)"
   ]
  },
  {
   "cell_type": "markdown",
   "metadata": {
    "id": "WOOm15mEu7kY"
   },
   "source": [
    "##  Constructores\n"
   ]
  },
  {
   "cell_type": "markdown",
   "metadata": {
    "id": "1sL6in_uu7kZ"
   },
   "source": [
    "### Contenidos\n"
   ]
  },
  {
   "cell_type": "markdown",
   "metadata": {
    "id": "JTsNqj-yu7ka"
   },
   "source": [
    "* [Introducción  ](#Introducción--)\n",
    "\n"
   ]
  },
  {
   "cell_type": "markdown",
   "metadata": {
    "id": "Z-OkvL4Ju7kb"
   },
   "source": [
    "### Introducción  \n",
    "[al indice](#Contenidos)  \n",
    "\n",
    "Veíamos en la sesión anterior que cuando creamos un objeto de la clase *Coche* sin más, este objeto adquiere los atributos por defecto de la clase. Si queremos definirlo bien \"de primeras\" (en su instanciación o creación) para diferenciarlo de otros coches, necesitamos algo más.  \n",
    "\n",
    "Ese algo más que me permite la definición inicial, es lo que se denomina constructor de la clase.\n",
    "\n",
    "Será un método, muy similar a una función, al que daremos unos argumentos de entrada que sustituirán a los valores por defecto y que nos permitirán diferenciar esa instancia de otras instancias de la misma clase.\n",
    "\n",
    "**¿Cómo se define un constructor?** Mediante la función `__init__`, dentro de la clase."
   ]
  },
  {
   "cell_type": "code",
   "execution_count": 1,
   "metadata": {
    "id": "-4SstNvHu7kc"
   },
   "outputs": [],
   "source": [
    "class Coche:\n",
    "    puertas = 4\n",
    "    ruedas =4 \n",
    "\n",
    "    def __init__(self, marca_coche):\n",
    "        self.marca = marca_coche"
   ]
  },
  {
   "cell_type": "code",
   "execution_count": 2,
   "metadata": {},
   "outputs": [
    {
     "ename": "TypeError",
     "evalue": "Coche.__init__() missing 1 required positional argument: 'marca_coche'",
     "output_type": "error",
     "traceback": [
      "\u001b[1;31m---------------------------------------------------------------------------\u001b[0m",
      "\u001b[1;31mTypeError\u001b[0m                                 Traceback (most recent call last)",
      "Cell \u001b[1;32mIn[2], line 1\u001b[0m\n\u001b[1;32m----> 1\u001b[0m tesla \u001b[38;5;241m=\u001b[39m \u001b[43mCoche\u001b[49m\u001b[43m(\u001b[49m\u001b[43m)\u001b[49m\n",
      "\u001b[1;31mTypeError\u001b[0m: Coche.__init__() missing 1 required positional argument: 'marca_coche'"
     ]
    }
   ],
   "source": [
    "tesla = Coche()"
   ]
  },
  {
   "cell_type": "code",
   "execution_count": 3,
   "metadata": {},
   "outputs": [
    {
     "name": "stdout",
     "output_type": "stream",
     "text": [
      "Tesla\n"
     ]
    }
   ],
   "source": [
    "tesla = Coche('Tesla')\n",
    "print(tesla.marca)"
   ]
  },
  {
   "cell_type": "markdown",
   "metadata": {
    "id": "IDN-mHmvu7kc"
   },
   "source": [
    "En la declaración del constructor hemos metido la palabra `self`. **Lo tendremos que poner siempre**. Hace referencia a la propia instancia de coche, es decir, a cuando creemos coches nuevos.\n",
    "\n",
    "En este caso estamos diferenciando los atributos comunes de la clase *Coche*, de los atributos particulares de los coches, como por ejemplo, la marca. Por eso la marca va junto con `self`, porque no hace referencia a la clase genércia de coche, sino a cada coche que creemos."
   ]
  },
  {
   "cell_type": "code",
   "execution_count": 5,
   "metadata": {
    "id": "8rc_ztUuu7kd"
   },
   "outputs": [
    {
     "name": "stdout",
     "output_type": "stream",
     "text": [
      "Mercedes 4\n",
      "Toyota 4\n",
      "Seat 4\n"
     ]
    }
   ],
   "source": [
    "mercedes = Coche('Mercedes')\n",
    "toyota = Coche('Toyota')\n",
    "seat = Coche('Seat')\n",
    "\n",
    "print(mercedes.marca, mercedes.ruedas)\n",
    "print(toyota.marca, toyota.ruedas)\n",
    "print(seat.marca, seat.ruedas)"
   ]
  },
  {
   "cell_type": "markdown",
   "metadata": {
    "id": "m6QckN-ju7ke"
   },
   "source": [
    "Ahora ya podemos diferenciar los coches por su marca. Para acceder al atributo de la marca, lo hacemos igual que con los anteriores."
   ]
  },
  {
   "cell_type": "code",
   "execution_count": 7,
   "metadata": {
    "id": "AVwa19hPu7ke"
   },
   "outputs": [],
   "source": [
    "class Coche:\n",
    "    puertas = 4\n",
    "    ruedas =4 \n",
    "\n",
    "    def __init__(self, marca_coche, num_puertas):\n",
    "        self.marca = marca_coche\n",
    "        self.puertas = num_puertas"
   ]
  },
  {
   "cell_type": "code",
   "execution_count": 8,
   "metadata": {},
   "outputs": [],
   "source": [
    "tesla = Coche('Tesla', 6)\n",
    "mercedes_500 = Coche('Mercedes', 8)"
   ]
  },
  {
   "cell_type": "code",
   "execution_count": 9,
   "metadata": {},
   "outputs": [
    {
     "data": {
      "text/plain": [
       "6"
      ]
     },
     "execution_count": 9,
     "metadata": {},
     "output_type": "execute_result"
    }
   ],
   "source": [
    "tesla.puertas"
   ]
  },
  {
   "cell_type": "code",
   "execution_count": 10,
   "metadata": {},
   "outputs": [],
   "source": [
    "class Coche:\n",
    "    def __init__(self, marca_coche, num_puertas = 4, num_ruedas = 4):\n",
    "        self.marca = marca_coche\n",
    "        self.puertas = num_puertas\n",
    "        self.ruedas = num_ruedas"
   ]
  },
  {
   "cell_type": "markdown",
   "metadata": {
    "id": "9xtj0q2Su7ke"
   },
   "source": [
    "Ya podemos solucionar el tema de que no todos los coches tienen 4 puertas"
   ]
  },
  {
   "cell_type": "code",
   "execution_count": 12,
   "metadata": {
    "id": "TWojp5p5u7kf"
   },
   "outputs": [
    {
     "name": "stdout",
     "output_type": "stream",
     "text": [
      "4 6 Tesla\n"
     ]
    }
   ],
   "source": [
    "tesla_4 = Coche('Tesla', num_ruedas = 6)\n",
    "print(tesla_4.puertas, tesla_4.ruedas, tesla_4.marca)"
   ]
  },
  {
   "cell_type": "code",
   "execution_count": null,
   "metadata": {
    "id": "YSO0C28Gu7kf"
   },
   "outputs": [],
   "source": []
  }
 ],
 "metadata": {
  "colab": {
   "provenance": []
  },
  "kernelspec": {
   "display_name": "Python 3 (ipykernel)",
   "language": "python",
   "name": "python3"
  },
  "language_info": {
   "codemirror_mode": {
    "name": "ipython",
    "version": 3
   },
   "file_extension": ".py",
   "mimetype": "text/x-python",
   "name": "python",
   "nbconvert_exporter": "python",
   "pygments_lexer": "ipython3",
   "version": "3.13.1"
  }
 },
 "nbformat": 4,
 "nbformat_minor": 4
}
