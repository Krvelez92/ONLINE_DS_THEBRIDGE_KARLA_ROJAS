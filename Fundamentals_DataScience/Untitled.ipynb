{
 "cells": [
  {
   "cell_type": "code",
   "execution_count": 4,
   "id": "47ce546b-c96c-4278-b4d4-9a7bb272203c",
   "metadata": {},
   "outputs": [
    {
     "data": {
      "text/plain": [
       "2"
      ]
     },
     "execution_count": 4,
     "metadata": {},
     "output_type": "execute_result"
    }
   ],
   "source": [
    "a = 'cadC'\n",
    "\n",
    "b = a.lower()\n",
    "\n",
    "b.count('c')"
   ]
  },
  {
   "cell_type": "code",
   "execution_count": 5,
   "id": "007a8e43-f1ac-433c-a65a-5e112abeda1f",
   "metadata": {},
   "outputs": [
    {
     "data": {
      "text/plain": [
       "'cadCq'"
      ]
     },
     "execution_count": 5,
     "metadata": {},
     "output_type": "execute_result"
    }
   ],
   "source": [
    "a+'q'"
   ]
  },
  {
   "cell_type": "code",
   "execution_count": null,
   "id": "71bfbab6-2cac-4ebb-9f6e-19a7fa03af0d",
   "metadata": {},
   "outputs": [],
   "source": []
  }
 ],
 "metadata": {
  "kernelspec": {
   "display_name": "Python 3 (ipykernel)",
   "language": "python",
   "name": "python3"
  },
  "language_info": {
   "codemirror_mode": {
    "name": "ipython",
    "version": 3
   },
   "file_extension": ".py",
   "mimetype": "text/x-python",
   "name": "python",
   "nbconvert_exporter": "python",
   "pygments_lexer": "ipython3",
   "version": "3.13.1"
  }
 },
 "nbformat": 4,
 "nbformat_minor": 5
}
