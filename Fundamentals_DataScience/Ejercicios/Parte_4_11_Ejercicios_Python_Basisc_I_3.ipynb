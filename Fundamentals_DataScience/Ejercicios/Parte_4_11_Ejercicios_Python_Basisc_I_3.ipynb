{
 "cells": [
  {
   "cell_type": "markdown",
   "metadata": {
    "id": "nWkMTvAOMLCn"
   },
   "source": [
    "![TheBridge_logo_RGB_color.jpg](attachment:TheBridge_logo_RGB_color.jpg)"
   ]
  },
  {
   "cell_type": "markdown",
   "metadata": {
    "id": "kkVzw-LYMLCt"
   },
   "source": [
    "![imagen](./img/ejercicios.png)"
   ]
  },
  {
   "cell_type": "markdown",
   "metadata": {
    "id": "4U14P6H1MLCu"
   },
   "source": [
    "## EJERCICIOS PYTHON BASICO 3:\n",
    "## Operaciones matemáticas, comparación y booleanas"
   ]
  },
  {
   "cell_type": "markdown",
   "metadata": {
    "id": "8LyeQvXqMLCv"
   },
   "source": [
    "Completa los siguiente ejercicios, la solución completa a los mismos se publicarán en el repo del curso a lo largo del sprint. En algunos ejercicios se muestra la solución final, para que puedas comprobar que lo has hecho bien, pero lo importante es el código que generes. ¡Vaaamos, a ello...!"
   ]
  },
  {
   "cell_type": "markdown",
   "metadata": {
    "id": "wXzMrqz2MLCw"
   },
   "source": [
    "![ejercicio.png](./img/ejercicio.png)\n",
    "\n",
    "\n",
    "## Ejercicio 1\n",
    "Tenemos las siguientes variables:\n",
    "\n",
    "```Python\n",
    "A = 4\n",
    "B = \"Text\"\n",
    "C = 4.1\n",
    "```\n",
    "\n",
    "Comprueba:\n",
    "1. Si A y B son equivalentes\n",
    "2. Si A y C NO son equivalentes\n",
    "3. Si A es mayor que C\n",
    "4. Si C es menor o igual que A\n",
    "5. Si B NO es equivalente a C"
   ]
  },
  {
   "cell_type": "code",
   "execution_count": 3,
   "metadata": {},
   "outputs": [
    {
     "name": "stdout",
     "output_type": "stream",
     "text": [
      "False\n",
      "True\n",
      "False\n",
      "False\n",
      "True\n"
     ]
    }
   ],
   "source": [
    "A = 4\n",
    "B = \"Text\"\n",
    "C = 4.1\n",
    "\n",
    "# 1. Si A y B son equivalentes\n",
    "print(A == B)\n",
    "\n",
    "# 2. Si A y C NO son equivalentes\n",
    "print(A != C)\n",
    "\n",
    "# 3. Si A es mayor que C\n",
    "print(A > C)\n",
    "\n",
    "# 4. Si C es menor o igual que A\n",
    "print(C <= A)\n",
    "\n",
    "# 5. Si B NO es equivalente a C\n",
    "print(B != C)\n"
   ]
  },
  {
   "cell_type": "markdown",
   "metadata": {
    "id": "yOMSJRJiMLCz"
   },
   "source": [
    "![ejercicio.png](./img/ejercicio.png)\n",
    "\n",
    "## Ejercicio 2\n",
    "Crea un programa donde se recojan dos inputs del usuario, y el output del programa sea si esos inputs son iguales o no"
   ]
  },
  {
   "cell_type": "code",
   "execution_count": 4,
   "metadata": {
    "id": "30gvns8XMLC0"
   },
   "outputs": [
    {
     "name": "stdout",
     "output_type": "stream",
     "text": [
      "Necesito dos inputs tuyos para analizar sus equivalencias:\n"
     ]
    },
    {
     "name": "stdin",
     "output_type": "stream",
     "text": [
      "valor 1: hola\n",
      "valor 2: lola\n"
     ]
    },
    {
     "name": "stdout",
     "output_type": "stream",
     "text": [
      "La equivalencia de hola y lola es False\n"
     ]
    }
   ],
   "source": [
    "print('Necesito dos inputs tuyos para analizar sus equivalencias:')\n",
    "valor_1 = input('valor 1:')\n",
    "valor_2 = input('valor 2:')\n",
    "equivalencia = valor_1 == valor_2\n",
    "\n",
    "print('La equivalencia de', valor_1, 'y', valor_2, 'es', equivalencia)\n"
   ]
  },
  {
   "cell_type": "markdown",
   "metadata": {
    "id": "B8z1X0AVMLC1"
   },
   "source": [
    "![ejercicio.png](./img/ejercicio.png)\n",
    "\n",
    "## Ejercicio 3\n",
    "Mismo programa que en 2, pero en esta ocasión tienen que ser tres inputs y dos salidas. Una de las salidas que nos indique si todos son iguales, y la otra si al menos dos inputs sí que lo son"
   ]
  },
  {
   "cell_type": "code",
   "execution_count": 10,
   "metadata": {
    "id": "ZhHD6JGOMLC2",
    "outputId": "f789b26a-165f-4bf4-c7ee-810b47083949"
   },
   "outputs": [
    {
     "name": "stdout",
     "output_type": "stream",
     "text": [
      "Necesito tres inputs tuyos para analizar sus equivalencias:\n"
     ]
    },
    {
     "name": "stdin",
     "output_type": "stream",
     "text": [
      "valor 1: 7\n",
      "valor 2: 7\n",
      "valor 3: 9\n"
     ]
    },
    {
     "name": "stdout",
     "output_type": "stream",
     "text": [
      "La primera equivalencia 7 , 7 y 9 es False\n",
      "La segunda equivalencia 7 , 7 y 9 es True\n"
     ]
    }
   ],
   "source": [
    "print('Necesito tres inputs tuyos para analizar sus equivalencias:')\n",
    "valor_1 = input('valor 1:')\n",
    "valor_2 = input('valor 2:')\n",
    "valor_3 = input('valor 3:')\n",
    "\n",
    "equivalencia_1 = valor_1 == valor_2 == valor_3\n",
    "equivalencia_2 = (valor_1 == valor_2) or (valor_1 == valor_3) or (valor_2 == valor_3)\n",
    "\n",
    "print('La primera equivalencia', valor_1, ',', valor_2,'y', valor_3, 'es', equivalencia_1)\n",
    "print('La segunda equivalencia', valor_1, ',', valor_2,'y', valor_3, 'es', equivalencia_2)"
   ]
  },
  {
   "cell_type": "markdown",
   "metadata": {
    "id": "biMg9XhGMLC2"
   },
   "source": [
    "![ejercicio.png](./img/ejercicio.png)\n",
    "\n",
    "## Ejercicio 4\n",
    "Razona sin ejecutar código el output que obtendremos de las siguientes sentencias\n",
    "1. True and True and False\n",
    "2. not ((True or False) and (True or False))\n",
    "3. (False or False or False or True) and False\n",
    "4. not False and True and not True"
   ]
  },
  {
   "cell_type": "markdown",
   "metadata": {
    "id": "_FWbAMDDMLC3"
   },
   "source": [
    "1. True and True and False\n",
    "    - False, se tienen que cumplir las tres condiciones para que sea un True.\n",
    "2. not ((True or False) and (True or False))\n",
    "    - False, not((True) and (True)) --> not(True) --> False.\n",
    "3. (False or False or False or True) and False\n",
    "    - False --> (True) and False --> False.\n",
    "4. not False and True and not True\n",
    "    - False --> True and True and False --> False."
   ]
  }
 ],
 "metadata": {
  "colab": {
   "provenance": []
  },
  "kernelspec": {
   "display_name": "Python 3 (ipykernel)",
   "language": "python",
   "name": "python3"
  },
  "language_info": {
   "codemirror_mode": {
    "name": "ipython",
    "version": 3
   },
   "file_extension": ".py",
   "mimetype": "text/x-python",
   "name": "python",
   "nbconvert_exporter": "python",
   "pygments_lexer": "ipython3",
   "version": "3.13.1"
  }
 },
 "nbformat": 4,
 "nbformat_minor": 4
}
