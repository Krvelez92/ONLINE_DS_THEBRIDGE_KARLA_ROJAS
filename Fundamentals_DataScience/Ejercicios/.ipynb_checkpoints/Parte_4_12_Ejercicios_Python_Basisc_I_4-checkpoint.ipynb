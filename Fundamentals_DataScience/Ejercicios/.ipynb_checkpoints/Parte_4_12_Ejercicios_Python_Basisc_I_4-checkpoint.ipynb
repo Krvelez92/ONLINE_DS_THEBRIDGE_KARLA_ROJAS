{
 "cells": [
  {
   "cell_type": "markdown",
   "metadata": {
    "id": "S4FXU7n_MMCH"
   },
   "source": [
    "![TheBridge_logo_RGB_color.jpg](attachment:TheBridge_logo_RGB_color.jpg)"
   ]
  },
  {
   "cell_type": "markdown",
   "metadata": {
    "id": "9mNgwghfMMCL"
   },
   "source": [
    "![imagen](./img/ejercicios.png)"
   ]
  },
  {
   "cell_type": "markdown",
   "metadata": {
    "id": "friIoYMzMMCL"
   },
   "source": [
    "## EJERCICIOS PYTHON BASICO 4:\n",
    "## Funciones, métodos, listas"
   ]
  },
  {
   "cell_type": "markdown",
   "metadata": {
    "id": "gC9O36OOMMCM"
   },
   "source": [
    "Completa los siguiente ejercicios, la solución completa a los mismos se publicarán en el repo del curso a lo largo del sprint. En algunos ejercicios se muestra la solución final, para que puedas comprobar que lo has hecho bien, pero lo importante es el código que generes. ¡Vaaamos, a ello...!"
   ]
  },
  {
   "cell_type": "markdown",
   "metadata": {
    "id": "b6WWbSABMMCN"
   },
   "source": [
    "![ejercicio.png](./img/ejercicio.png)\n",
    "\n",
    "## Ejercicio 1\n",
    "Para este ejercicio vamos a poner en práctica [las funciones built in](https://docs.python.org/3/library/functions.html).\n",
    "\n",
    "1. Calcula el máximo de la lista: [4, 6, 8, -1]\n",
    "2. Suma todos los elementos de la lista anterior\n",
    "3. Redondea este float a 3 dígitos decimales: 63.451256965\n",
    "4. Valor absoluto de: -74"
   ]
  },
  {
   "cell_type": "code",
   "execution_count": 1,
   "metadata": {
    "id": "71fF6PGVMMCN"
   },
   "outputs": [
    {
     "name": "stdout",
     "output_type": "stream",
     "text": [
      "8\n",
      "17\n",
      "63.451\n",
      "74\n"
     ]
    }
   ],
   "source": [
    "# 1. Calcula el máximo de la lista: [4, 6, 8, -1]\n",
    "lista = [4, 6, 8, -1]\n",
    "print(max(lista))\n",
    "\n",
    "# 2. Suma todos los elementos de la lista anterior\n",
    "print(sum(lista))\n",
    "\n",
    "# 3. Redondea este float a 3 dígitos decimales: 63.451256965\n",
    "num_float = 63.451256965\n",
    "print(round(num_float, 3))\n",
    "\n",
    "# 4. Valor absoluto de: -74\n",
    "print(abs(-74))\n"
   ]
  },
  {
   "cell_type": "markdown",
   "metadata": {
    "id": "bMjVS9EAMMCO"
   },
   "source": [
    "![ejercicio.png](./img/ejercicio.png)\n",
    "\n",
    "## Ejercicio 2\n",
    "Para el siguiente string se pide imprimir por pantalla los siguientes casos\n",
    "\n",
    "    \"En un lugar de la Mancha, de cuyo nombre no quiero acordarme.\"\n",
    "\n",
    "1. Pásalo todo a mayúsculas\n",
    "2. Pásalo todo a minúsculas\n",
    "3. Solo la primera letra de cada palabra en mayúscula, el resto en minúscula\n",
    "4. Crea una lista dividiéndolo por sus espacios\n",
    "5. Sustituye las comas `,` por puntos y comas `;`\n",
    "6. Elimina las `a` minúsculas"
   ]
  },
  {
   "cell_type": "code",
   "execution_count": 2,
   "metadata": {},
   "outputs": [
    {
     "name": "stdout",
     "output_type": "stream",
     "text": [
      "EN UN LUGAR DE LA MANCHA, DE CUYO NOMBRE NO QUIERO ACORDARME.\n",
      "en un lugar de la mancha, de cuyo nombre no quiero acordarme.\n",
      "En Un Lugar De La Mancha, De Cuyo Nombre No Quiero Acordarme.\n",
      "['En', 'un', 'lugar', 'de', 'la', 'Mancha,', 'de', 'cuyo', 'nombre', 'no', 'quiero', 'acordarme.']\n",
      "En un lugar de la Mancha; de cuyo nombre no quiero acordarme.\n",
      "En un lugr de l Mnch, de cuyo nombre no quiero cordrme.\n"
     ]
    }
   ],
   "source": [
    "var_string = \"En un lugar de la Mancha, de cuyo nombre no quiero acordarme.\"\n",
    "\n",
    "# 1. Pásalo todo a mayúsculas\n",
    "print(var_string.upper())\n",
    "\n",
    "# 2. Pásalo todo a minúsculas\n",
    "print(var_string.lower())\n",
    "\n",
    "# 3. Solo la primera letra de cada palabra en mayúscula, el resto en minúscula\n",
    "print(var_string.title())\n",
    "\n",
    "# 4. Crea una lista dividiéndolo por sus espacios\n",
    "print(var_string.split(' '))\n",
    "\n",
    "# 5. Sustituye las comas , por puntos y comas ;\n",
    "print(var_string.replace(',', ';'))\n",
    "\n",
    "# 6. Elimina las a minúsculas\n",
    "print(var_string.replace('a', ''))"
   ]
  },
  {
   "cell_type": "markdown",
   "metadata": {
    "id": "K4DVXRZZMMCP"
   },
   "source": [
    "![ejercicio.png](./img/ejercicio.png)\n",
    "\n",
    "## Ejercicio 3\n",
    "1. Crea una lista con 3 elementos numéricos\n",
    "2. Añade un cuarto elemento\n",
    "3. Calcula la suma de todos\n",
    "4. Elimina el segundo elemento de la lista\n",
    "5. Añade otro elemento en la posicion 3 de la lista\n",
    "6. Crea otra lista con 4 elementos y concaténala a la que ya tenías.\n",
    "7. Ordena la lista de menor a mayor.\n",
    "8. BONUS: Ordena la lista de mayor a menor.  \n",
    "(*PISTA: Para hacer 8, tendrás que buscar en la información del método...*)  \n",
    "  \n",
    "  \n",
    "NOTA: Pinta por pantalla el resultado de cada paso."
   ]
  },
  {
   "cell_type": "code",
   "execution_count": 12,
   "metadata": {
    "id": "cRPq_LslMMCQ",
    "outputId": "5faf93a8-e052-4054-d2ca-dce0ee9403df"
   },
   "outputs": [
    {
     "name": "stdout",
     "output_type": "stream",
     "text": [
      "[3, 54, 5]\n",
      "[3, 54, 5, 23]\n",
      "85\n",
      "[3, 5, 23]\n",
      "[3, 5, 65, 23]\n",
      "[3, 5, 65, 23, 54, 676, 1, 8434]\n",
      "[1, 3, 5, 23, 54, 65, 676, 8434]\n",
      "[8434, 676, 65, 54, 23, 5, 3, 1]\n"
     ]
    }
   ],
   "source": [
    "# 1. Crea una lista con 3 elementos numéricos\n",
    "lista_2 = [3, 54, 5]\n",
    "print(lista_2)\n",
    "\n",
    "# 2. Añade un cuarto elemento\n",
    "lista_2.append(23)\n",
    "print(lista_2)\n",
    "\n",
    "# 3. Calcula la suma de todos\n",
    "print(sum(lista_2))\n",
    "\n",
    "# 4. Elimina el segundo elemento de la lista\n",
    "lista_2.pop(1)\n",
    "print(lista_2)\n",
    "\n",
    "# 5. Añade otro elemento en la posicion 3 de la lista\n",
    "lista_2.insert(2, 65)\n",
    "print(lista_2)\n",
    "\n",
    "# 6. Crea otra lista con 4 elementos y concaténala a la que ya tenías.\n",
    "lista_3 = [54, 676, 1, 8434]\n",
    "concatenacion = lista_2 + lista_3\n",
    "print(concatenacion)\n",
    "\n",
    "# 7. Ordena la lista de menor a mayor.\n",
    "concatenacion.sort()\n",
    "print(concatenacion)\n",
    "\n",
    "# 8. BONUS: Ordena la lista de mayor a menor.\n",
    "concatenacion.sort(reverse=True)\n",
    "print(concatenacion)\n"
   ]
  }
 ],
 "metadata": {
  "colab": {
   "provenance": []
  },
  "kernelspec": {
   "display_name": "Python 3 (ipykernel)",
   "language": "python",
   "name": "python3"
  },
  "language_info": {
   "codemirror_mode": {
    "name": "ipython",
    "version": 3
   },
   "file_extension": ".py",
   "mimetype": "text/x-python",
   "name": "python",
   "nbconvert_exporter": "python",
   "pygments_lexer": "ipython3",
   "version": "3.13.1"
  }
 },
 "nbformat": 4,
 "nbformat_minor": 4
}
