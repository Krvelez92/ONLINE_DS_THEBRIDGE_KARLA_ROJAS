{
 "cells": [
  {
   "cell_type": "markdown",
   "metadata": {
    "id": "9l3HMgm6RWxF"
   },
   "source": [
    "![TheBridge_logo_RGB_color.jpg](attachment:TheBridge_logo_RGB_color.jpg)"
   ]
  },
  {
   "cell_type": "markdown",
   "metadata": {
    "id": "RGg9iWpoRWxG"
   },
   "source": [
    "![ejercicios.png](attachment:ejercicios.png)"
   ]
  },
  {
   "cell_type": "markdown",
   "metadata": {
    "id": "AyOlWS2nRWxH"
   },
   "source": [
    "## PRACTICA OBLIGATORIA: COLECCIONES Y FUNCIONES"
   ]
  },
  {
   "cell_type": "markdown",
   "metadata": {
    "id": "6UOgb0KVRWxH"
   },
   "source": [
    "* La práctica obligatoria de esta unidad consiste varios ejercicios de programación libre a completar sobre Colecciones y Funciones. Descarga este notebook en tu ordenador y trabaja en local.  \n",
    "* Recuerda que debes subirla a tu repositorio personal antes de la sesión en vivo para que puntúe adecuadamente y puedas participar en dicha sesión.  \n",
    "* Recuerda también que no es necesario que esté perfecta, sólo es necesario que se vea el esfuerzo.\n",
    "* Esta práctica se resolverá en la sesión en vivo correspondiente y la solución se publicará en el repo del curso."
   ]
  },
  {
   "cell_type": "markdown",
   "metadata": {
    "id": "j3yu-tEjRWxH"
   },
   "source": [
    "### Contenidos"
   ]
  },
  {
   "cell_type": "markdown",
   "metadata": {
    "id": "kO-fLH39RWxH"
   },
   "source": [
    "## Ejercicio 1\n",
    "Eleva todos los elementos de la lista al cuadrado\n",
    "> ```ejer_2 = [1,2,3,4,5]```"
   ]
  },
  {
   "cell_type": "code",
   "execution_count": 7,
   "metadata": {
    "id": "ks5l3yi7RWxH"
   },
   "outputs": [
    {
     "name": "stdout",
     "output_type": "stream",
     "text": [
      "[1, 4, 9, 16, 25]\n"
     ]
    }
   ],
   "source": [
    "ejer_2 = [1,2,3,4,5]\n",
    "\n",
    "def elevar_num(valor):\n",
    "    lista = []\n",
    "    for i in valor:\n",
    "        if type(i) == int or type(i) == float: \n",
    "            cuadrado = i ** 2\n",
    "            lista.append(cuadrado)\n",
    "        else:\n",
    "            print('Error el valor', i, 'no es un numerico.')\n",
    "    return lista\n",
    "    \n",
    "print(elevar_num(ejer_2))"
   ]
  },
  {
   "cell_type": "markdown",
   "metadata": {
    "id": "kI_Xr5oFRWxI"
   },
   "source": [
    "## Ejercicio 2\n",
    "Haz un programa que detecte todos los duplicados de un elemento en una lista:\n",
    "* Utiliza una variable duplicado para asignarle el valor del elemento del que queremos encontrar todos sus duplicados.\n",
    "* El programa debe devolver todos los índices de los elementos duplicados.\n",
    "* Aplícalo para encontrar los duplicados de \"un\", \"es\" y \"binario\" de:  \n",
    "\n",
    ">```ejer_3 = [\"Un\", \"árbol\", \"binario\", \"es\", \"una\", \"estructura\", \"de\", \"un\", \"tipo\", \"particular\", \"a\", \"veces\", \"no\", \"es\", \"ni\", \"binario\"]```\n"
   ]
  },
  {
   "cell_type": "code",
   "execution_count": 8,
   "metadata": {
    "id": "cLY9WB7YRWxI"
   },
   "outputs": [
    {
     "data": {
      "text/plain": [
       "{'un': [0, 7], 'binario': [2, 15], 'es': [3, 13]}"
      ]
     },
     "execution_count": 8,
     "metadata": {},
     "output_type": "execute_result"
    }
   ],
   "source": [
    "def busca_duplicados(lista, duplicados):\n",
    "    lista_lower = []\n",
    "    resultado = {}\n",
    "    for i in lista:\n",
    "        i = i.lower()\n",
    "        lista_lower.append(i)\n",
    "    for valor in lista_lower:\n",
    "        if valor in duplicados and lista_lower.count(valor)>1:\n",
    "            valores = []\n",
    "            for n in range(len(lista_lower)):\n",
    "                if lista_lower[n] == valor:\n",
    "                    valores.append(n)\n",
    "                    resultado[valor] = valores\n",
    "        else:\n",
    "            continue\n",
    "    return resultado\n",
    "\n",
    "ejer_3 = [\"Un\", \"árbol\", \"binario\", \"es\", \"una\", \"estructura\", \"de\", \"un\", \"tipo\", \"particular\", \"a\", \"veces\", \"no\", \"es\", \"ni\", \"binario\"]\n",
    "duplicado = ['un', 'es', 'binario']\n",
    "\n",
    "busca_duplicados(ejer_3, duplicado)"
   ]
  },
  {
   "cell_type": "markdown",
   "metadata": {
    "id": "3WrBd5QaRWxI"
   },
   "source": [
    "## Ejercicio 3\n",
    "1. ¿Cuántas veces se repite el 3 en la siguiente tupla?\n",
    "2. Crea una tupla nueva con los elementos desde la posicion 5 a la 10.\n",
    "3. ¿Cuántos elementos tiene la tupla `ejer_3`?\n",
    "> ```ejer_9 = (3, 20, 3, 47, 19, 3, 29, 45, 67, 78, 90, 3, 3, 5, 2, 4, 7, 9, 4, 2, 4, 3, 3, 4, 6, 7)```"
   ]
  },
  {
   "cell_type": "code",
   "execution_count": 9,
   "metadata": {
    "id": "bkv_R5LYRWxI"
   },
   "outputs": [
    {
     "name": "stdout",
     "output_type": "stream",
     "text": [
      "7\n",
      "(19, 3, 29, 45, 67, 78)\n",
      "26\n"
     ]
    }
   ],
   "source": [
    "ejer_9 = (3, 20, 3, 47, 19, 3, 29, 45, 67, 78, 90, 3, 3, 5, 2, 4, 7, 9, 4, 2, 4, 3, 3, 4, 6, 7)\n",
    "\n",
    "# 1. ¿Cuántas veces se repite el 3 en la siguiente tupla?\n",
    "print(ejer_9.count(3))\n",
    "\n",
    "# 2. Crea una tupla nueva con los elementos desde la posicion 5 a la 10.\n",
    "tupla_nueva = ejer_9[4:10]\n",
    "print(tupla_nueva)\n",
    "\n",
    "#3. ¿Cuántos elementos tiene la tupla ejer_9\n",
    "print(len(ejer_9))"
   ]
  },
  {
   "cell_type": "markdown",
   "metadata": {
    "id": "6g8Y54AeRWxI"
   },
   "source": [
    "## Ejercicio 4\n",
    "Comprueba si el numero 60 esta en la tupla del ejercicio 3"
   ]
  },
  {
   "cell_type": "code",
   "execution_count": 10,
   "metadata": {
    "id": "F8VTEZonRWxI"
   },
   "outputs": [
    {
     "name": "stdout",
     "output_type": "stream",
     "text": [
      "El Numero no esta en la tupla.\n"
     ]
    }
   ],
   "source": [
    "try:\n",
    "    print(ejer_9.index(60))\n",
    "except :\n",
    "    print(\"El Numero no esta en la tupla.\")\n"
   ]
  },
  {
   "cell_type": "markdown",
   "metadata": {
    "id": "y0fg-ZA6RWxI"
   },
   "source": [
    "## Ejercicio 5\n",
    "1. Convierte la tupla del ejercicio 3 en una lista\n",
    "2. Convierte la tupla del ejercicio 3 en un set\n",
    "3. Convierte la tupla del ejercicio 3 en un diccionario. Usa también los indices"
   ]
  },
  {
   "cell_type": "code",
   "execution_count": 11,
   "metadata": {
    "id": "_O5hXr01RWxI"
   },
   "outputs": [
    {
     "name": "stdout",
     "output_type": "stream",
     "text": [
      "[3, 20, 3, 47, 19, 3, 29, 45, 67, 78, 90, 3, 3, 5, 2, 4, 7, 9, 4, 2, 4, 3, 3, 4, 6, 7] <class 'list'>\n",
      "{2, 3, 67, 5, 4, 7, 6, 9, 45, 78, 47, 19, 20, 90, 29} <class 'set'>\n",
      "{3: [0, 2, 5, 11, 12, 21, 22], 20: [1], 47: [3], 19: [4], 29: [6], 45: [7], 67: [8], 78: [9], 90: [10], 5: [13], 2: [14, 19], 4: [15, 18, 20, 23], 7: [16, 25], 9: [17], 6: [24]} <class 'dict'>\n"
     ]
    }
   ],
   "source": [
    "# 1. Convierte la tupla del ejercicio 3 en una lista.\n",
    "ejer_9_list = list(ejer_9)\n",
    "print(ejer_9_list, type(ejer_9_list))\n",
    "\n",
    "# 2. Convierte la tupla del ejercicio 3 en un set\n",
    "ejer_9_set = set(ejer_9)\n",
    "print(ejer_9_set, type(ejer_9_set))\n",
    "\n",
    "# 3. Convierte la tupla del ejercicio 3 en un diccionario. Usa también los indices.\n",
    "ejer_9_dic = {}\n",
    "for i, j in enumerate(ejer_9):\n",
    "    if ejer_9.count(j) == 1:\n",
    "        ejer_9_dic[j] = [i]\n",
    "    else:\n",
    "        valores = []\n",
    "        for n in range(len(ejer_9)):\n",
    "            if ejer_9[n] == j:\n",
    "                valores.append(n)\n",
    "                ejer_9_dic[j] = valores\n",
    "\n",
    "print(ejer_9_dic, type(ejer_9_dic))"
   ]
  },
  {
   "cell_type": "markdown",
   "metadata": {
    "id": "eOdWWbxvRWxJ"
   },
   "source": [
    "## Ejercicio 6\n",
    "Multiplica todos los valores del diccionario\n",
    "> ```ejer_6 = {1: 11, 2: 22, 3: 33, 4: 44, 5: 55}```"
   ]
  },
  {
   "cell_type": "code",
   "execution_count": 12,
   "metadata": {
    "id": "KcuByovKRWxJ"
   },
   "outputs": [
    {
     "name": "stdout",
     "output_type": "stream",
     "text": [
      "19326120\n"
     ]
    }
   ],
   "source": [
    "ejer_6 = {1: 11, 2: 22, 3: 33, 4: 44, 5: 55}\n",
    "\n",
    "def producto_valor(diccionario):\n",
    "    producto = 1\n",
    "    diccionario_valores = list(diccionario.values())\n",
    "    for i in diccionario_valores:\n",
    "        producto *= i\n",
    "    return producto\n",
    "\n",
    "print(producto_valor(ejer_6))"
   ]
  },
  {
   "cell_type": "markdown",
   "metadata": {
    "id": "W7TUSaKRRWxJ"
   },
   "source": [
    "## Ejercicio 7\n",
    "\n",
    "1. Crea un diccionario que describa un libro, con los siguientes campos o claves: \"titulo\",\"autor\",\"idioma original\",\"año de publicación\".\n",
    "2. Crea un a lista, llamada librería.\n",
    "3. Añade cuatro libros a tu elección a la librería."
   ]
  },
  {
   "cell_type": "code",
   "execution_count": 13,
   "metadata": {
    "id": "d-IMRvxRRWxJ",
    "vscode": {
     "languageId": "plaintext"
    }
   },
   "outputs": [
    {
     "name": "stdout",
     "output_type": "stream",
     "text": [
      "[{'Titulo': 'El Principito', 'Autor': 'Antoine de Saint-Exupéry', 'Idioma Original': 'Francés', 'Año de Publicación': 1943}, {'Titulo': 'señor de los anillos', 'Autor': 'J. R. R. tolkien', 'Idioma Original': 'inglés', 'Año de Publicación': 1954}, {'Titulo': 'cronica de una muerte anunciada', 'Autor': 'gabriel garcía márquez', 'Idioma Original': 'español', 'Año de Publicación': 1981}, {'Titulo': 'el ingenioso caballero don quijote de la mancha', 'Autor': 'miguel de cervantes', 'Idioma Original': 'español', 'Año de Publicación': 1605}, {'Titulo': 'inferno', 'Autor': 'dan brown', 'Idioma Original': 'inglés', 'Año de Publicación': 2013}]\n"
     ]
    }
   ],
   "source": [
    "# 1. Crea un diccionario que describa un libro, con los siguientes campos o claves: \"titulo\",\"autor\",\"idioma original\",\"año de publicación\".\n",
    "principito = {'Titulo' : 'El Principito', 'Autor' : 'Antoine de Saint-Exupéry', 'Idioma Original' : 'Francés', 'Año de Publicación' : 1943}\n",
    "\n",
    "# 2. Crea un a lista, llamada librería.\n",
    "libreria = []\n",
    "# 3. Añade cuatro libros a tu elección a la librería.\n",
    "senoranillos = {'Titulo' : 'señor de los anillos', 'Autor' : 'J. R. R. tolkien', 'Idioma Original' : 'inglés', 'Año de Publicación' : 1954}\n",
    "Muerte_anunciada = {'Titulo' : 'cronica de una muerte anunciada', 'Autor' : 'gabriel garcía márquez', 'Idioma Original' : 'español', 'Año de Publicación' : 1981}\n",
    "Quijote = {'Titulo' : 'el ingenioso caballero don quijote de la mancha', 'Autor' : 'miguel de cervantes', 'Idioma Original' : 'español', 'Año de Publicación' : 1605}\n",
    "Inferno = {'Titulo' : 'inferno', 'Autor' : 'dan brown', 'Idioma Original' : 'inglés', 'Año de Publicación' : 2013}\n",
    "\n",
    "libreria = [principito, senoranillos, Muerte_anunciada, Quijote, Inferno]\n",
    "print(libreria)"
   ]
  },
  {
   "cell_type": "markdown",
   "metadata": {
    "id": "glMoedjYRWxJ"
   },
   "source": [
    "## Ejercicio 8\n",
    "Modifica los valores del idioma de todos los libros del ejercicio anterior para que sea \"esperanto\"\n"
   ]
  },
  {
   "cell_type": "code",
   "execution_count": 14,
   "metadata": {
    "id": "veNdC-uwRWxJ"
   },
   "outputs": [
    {
     "name": "stdout",
     "output_type": "stream",
     "text": [
      "[{'Titulo': 'El Principito', 'Autor': 'Antoine de Saint-Exupéry', 'Idioma Original': 'Esperanto', 'Año de Publicación': 1943}, {'Titulo': 'señor de los anillos', 'Autor': 'J. R. R. tolkien', 'Idioma Original': 'Esperanto', 'Año de Publicación': 1954}, {'Titulo': 'cronica de una muerte anunciada', 'Autor': 'gabriel garcía márquez', 'Idioma Original': 'Esperanto', 'Año de Publicación': 1981}, {'Titulo': 'el ingenioso caballero don quijote de la mancha', 'Autor': 'miguel de cervantes', 'Idioma Original': 'Esperanto', 'Año de Publicación': 1605}, {'Titulo': 'inferno', 'Autor': 'dan brown', 'Idioma Original': 'Esperanto', 'Año de Publicación': 2013}]\n"
     ]
    }
   ],
   "source": [
    "for libro in libreria:\n",
    "    for i in libro:\n",
    "        libro['Idioma Original'] = 'Esperanto'\n",
    "\n",
    "print(libreria)"
   ]
  },
  {
   "cell_type": "markdown",
   "metadata": {
    "id": "DRCJG04KRWxJ"
   },
   "source": [
    "## Ejercicio 9\n",
    "1. Escribe un programa que dada una variable titulo busque los libros que hay en la librería con ese título. Si no se encuentra debe devolver el mensaje `Ese no lo tengo, ¿mola?`\n",
    "2. Pruena que el programa con uno de tus libros y con otro que no contenga tu librería."
   ]
  },
  {
   "cell_type": "code",
   "execution_count": 15,
   "metadata": {
    "id": "eWHdJi9BRWxJ"
   },
   "outputs": [
    {
     "name": "stdout",
     "output_type": "stream",
     "text": [
      "{'Titulo': 'inferno', 'Autor': 'dan brown', 'Idioma Original': 'Esperanto', 'Año de Publicación': 2013}\n",
      "Ese no lo tengo, ¿mola?\n"
     ]
    }
   ],
   "source": [
    "# 1. Escribe un programa que dada una variable titulo busque los libros que hay en la librería con ese título. Si no se encuentra debe devolver el mensaje Ese no lo tengo, ¿mola?\n",
    "def busca_libros(titulo, libreria):\n",
    "    for libro in libreria:\n",
    "        for i in libro:\n",
    "            if libro['Titulo'] == titulo.lower():\n",
    "                resultado = libro\n",
    "            else:\n",
    "                resultado = 'Ese no lo tengo, ¿mola?'\n",
    "    return resultado              \n",
    "\n",
    "# 2. Prueba que el programa con uno de tus libros y con otro que no contenga tu librería.\n",
    "print(busca_libros('INFERNO', libreria)) #--> Libro existente\n",
    "print(busca_libros('Biblia', libreria)) #--> Libro no existente"
   ]
  },
  {
   "cell_type": "markdown",
   "metadata": {
    "id": "17YOpYuFRWxJ"
   },
   "source": [
    "## Ejercicio 10\n",
    "Convierte el programa del ejercicio 2 en una función al que se le pase el valor a buscar como un argumento posicional"
   ]
  },
  {
   "cell_type": "code",
   "execution_count": 16,
   "metadata": {
    "id": "xbj0LgvnRWxJ"
   },
   "outputs": [],
   "source": [
    "#LISTO EN EL EJERCICIO 2."
   ]
  },
  {
   "cell_type": "markdown",
   "metadata": {
    "id": "xZ-sWJxPRWxJ"
   },
   "source": [
    "## Ejercicio 11\n",
    "Convierte el programa del ejercicio 9 en una función al que se le pasen como argumentos la librería, posicional, y el título, argumento keyword con valor \"ninguno\", por defecto."
   ]
  },
  {
   "cell_type": "code",
   "execution_count": 17,
   "metadata": {
    "id": "4-JrsMdNRWxK"
   },
   "outputs": [
    {
     "name": "stdout",
     "output_type": "stream",
     "text": [
      "{'Titulo': 'inferno', 'Autor': 'dan brown', 'Idioma Original': 'Esperanto', 'Año de Publicación': 2013}\n",
      "Ese no lo tengo, ¿mola?\n"
     ]
    }
   ],
   "source": [
    "def busca_libros(libreria, titulo='ninguno'):\n",
    "    for libro in libreria:\n",
    "        for i in libro:\n",
    "            if libro['Titulo'] == titulo.lower():\n",
    "                resultado = libro\n",
    "            else:\n",
    "                resultado = 'Ese no lo tengo, ¿mola?'\n",
    "    return resultado              \n",
    "\n",
    "print(busca_libros(libreria, 'INFERNO'))\n",
    "print(busca_libros(libreria))      "
   ]
  },
  {
   "cell_type": "markdown",
   "metadata": {
    "id": "FtJir95QRWxK"
   },
   "source": [
    "## Ejercicio 12\n",
    "Solicitar al usuario que ingrese su dirección email. Imprimir un mensaje indicando si la dirección es válida o no, valiéndose de una función para decidirlo. Una dirección se considerará válida si contiene el símbolo \"@\"."
   ]
  },
  {
   "cell_type": "code",
   "execution_count": 3,
   "metadata": {
    "id": "sk852IZ8RWxK"
   },
   "outputs": [
    {
     "name": "stdin",
     "output_type": "stream",
     "text": [
      "Buenas tardes, ingrese su dirección email. iiehfewe\n"
     ]
    },
    {
     "name": "stdout",
     "output_type": "stream",
     "text": [
      "La dirección de correo no es válida.\n"
     ]
    }
   ],
   "source": [
    "def validar_correo(correo):\n",
    "    simbolo = '@'\n",
    "    if  simbolo in correo:\n",
    "        respuesta = 'La dirección de correo es válida.'\n",
    "        return respuesta\n",
    "    else:\n",
    "        respuesta = 'La dirección de correo no es válida.'\n",
    "        return respuesta\n",
    "\n",
    "\n",
    "solicitud_correos = input('Buenas tardes, ingrese su dirección email.')\n",
    "print(validar_correo(solicitud_correos))\n"
   ]
  },
  {
   "cell_type": "markdown",
   "metadata": {
    "id": "Kw1MWBwBRWxK"
   },
   "source": [
    "## Ejercicio 13\n",
    "Escribe una función que compruebe si un DNI es válido, devolviendo `True` en caso afirmativo.  \n",
    "En primer lugar, el DNI debe tener entre 7 y 8 dígitos numéricos.  \n",
    "Para saber si la letra del DNI es correcta puedes utilizar el siguiente fragmento de código:\n",
    ">```Python\n",
    ">DNI= 55555555\n",
    ">palabra='TRWAGMYFPDXBNJZSQVHLCKE'\n",
    ">print('La letra del DNI es: ', palabra[DNI%23])\n",
    ">````\n"
   ]
  },
  {
   "cell_type": "code",
   "execution_count": 34,
   "metadata": {
    "id": "F5Z9rSHqRWxK"
   },
   "outputs": [],
   "source": [
    "def validar_dni(dni):\n",
    "    dni = dni.upper()\n",
    "    dni_num = dni[:-1]\n",
    "    if len(dni_num) == 7 or len(dni_num) == 8:\n",
    "        dni_num = int(dni_num)\n",
    "        palabra = 'TRWAGMYFPDXBNJZSQVHLCKE'\n",
    "        letra = palabra[dni_num%23]\n",
    "        dni_valido = str(dni_num) + letra\n",
    "        if dni_valido == dni:\n",
    "            resultado = True\n",
    "        else:\n",
    "            resultado = False\n",
    "    else:\n",
    "        resultado = 'La longitud del DNI no es la correcta.'\n",
    "    return resultado       "
   ]
  },
  {
   "cell_type": "code",
   "execution_count": 36,
   "metadata": {},
   "outputs": [
    {
     "name": "stdout",
     "output_type": "stream",
     "text": [
      "False\n",
      "La longitud del DNI no es la correcta.\n",
      "True\n",
      "True\n"
     ]
    }
   ],
   "source": [
    "print(validar_dni('43935706K'))\n",
    "\n",
    "print(validar_dni('439357K'))\n",
    "\n",
    "print(validar_dni('43935706w'))\n",
    "\n",
    "print(validar_dni('43935706W'))"
   ]
  }
 ],
 "metadata": {
  "colab": {
   "provenance": []
  },
  "kernelspec": {
   "display_name": "Python 3 (ipykernel)",
   "language": "python",
   "name": "python3"
  },
  "language_info": {
   "codemirror_mode": {
    "name": "ipython",
    "version": 3
   },
   "file_extension": ".py",
   "mimetype": "text/x-python",
   "name": "python",
   "nbconvert_exporter": "python",
   "pygments_lexer": "ipython3",
   "version": "3.13.1"
  }
 },
 "nbformat": 4,
 "nbformat_minor": 4
}
