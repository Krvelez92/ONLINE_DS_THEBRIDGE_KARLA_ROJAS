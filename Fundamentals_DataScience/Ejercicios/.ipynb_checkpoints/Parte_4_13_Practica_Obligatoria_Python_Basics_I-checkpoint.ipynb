{
 "cells": [
  {
   "cell_type": "markdown",
   "metadata": {
    "id": "BNCAebJANPxq"
   },
   "source": [
    "![TheBridge_logo_RGB_color.jpg](attachment:TheBridge_logo_RGB_color.jpg)"
   ]
  },
  {
   "cell_type": "markdown",
   "metadata": {
    "id": "A9eDZvZaNPxs"
   },
   "source": [
    "![imagen](./img/ejercicios.png)"
   ]
  },
  {
   "cell_type": "markdown",
   "metadata": {
    "id": "59zPhBxXNPxs"
   },
   "source": [
    "## PRACTICA OBLIGATORIA: PYTHON"
   ]
  },
  {
   "cell_type": "markdown",
   "metadata": {
    "id": "mv2kb1GMNPxs"
   },
   "source": [
    "* La práctica obligatoria de esta unidad consiste en dos ejercicios de programación libre a completar.   \n",
    "* Recuerda que debes subirla a tu repositorio personal antes de la sesión en vivo para que puntúe adecuadamente.  \n",
    "* Recuerda también que no es necesario que esté perfecta, sólo es necesario que se vea el esfuerzo.\n",
    "* Esta práctica se resolverá en la sesión en vivo correspondiente y la solución se publicará en el repo del curso."
   ]
  },
  {
   "cell_type": "markdown",
   "metadata": {
    "id": "Kl9JzST2NPxt"
   },
   "source": [
    "![ejercicio.png](./img/ejercicio.png)\n",
    "## PARTE I\n",
    "\n",
    "En este ejercicio debes simular un chatbot al que le haremos pedidos de pizzas.\n",
    "\n",
    "1. El chatbot tiene que saludar con un: \"Buenas tardes, bienvenido al servicio de pedido online, el precio de nuestra pizzas es de 8,95 para la familiar o de 9,90 para la mediana ¿Cuántas pizzas  familiares desea?\"\n",
    "2. El ususario tiene que introducir un número de pizzas en una variable llamada 'pizz_familiar'\n",
    "3. El chatbot debe responder: \"Estupendo, ¿cuántas pizzas medianas desea?\" y guardar el número de pizzas medianas en otra variable 'pizz_mediana'\n",
    "4. Además debe responder del chatbot: \"Estupendo, se están preparando 'pizz' pizzas familiares y 'pizz_mediana' pizzas medianas. Digame su dirección\"\n",
    "5. El ususario tiene que introducir una direccion en formato String en otra variable llamada 'direcc'\n",
    "6. El programa debe calcular el monto total\n",
    "7. Respuesta final del chatbot: \"Le mandaremos las '(número total de pizzas)' pizzas a la dirección 'direcc'. Serán <precio total a pagar en euros>. Muchas gracias por su pedido.\"\n",
    "         \n"
   ]
  },
  {
   "cell_type": "code",
   "execution_count": 9,
   "metadata": {
    "id": "qkKibyt-NPxt"
   },
   "outputs": [
    {
     "name": "stdin",
     "output_type": "stream",
     "text": [
      "Buenas tardes, bienvenido al servicio de pedido online, \n",
      " el precio de nuestra pizzas es de 8,95 para la familiar o de 9,90 para la mediana \n",
      " ¿Cuántas pizas familiares desea? 1.4\n",
      "Estupendo, ¿cuántas pizzas medianas desea? 2.7\n"
     ]
    },
    {
     "name": "stdout",
     "output_type": "stream",
     "text": [
      "Estupendo, se están preparando 1 pizzas familiares y 2 pizzas medianas.\n"
     ]
    },
    {
     "name": "stdin",
     "output_type": "stream",
     "text": [
      "Digame su dirección jhkjhjhkj\n"
     ]
    },
    {
     "name": "stdout",
     "output_type": "stream",
     "text": [
      "Le mandaremos las 3 pizzas a la dirección jhkjhjhkj . Serán 28.75 euros. Muchas gracias por su pedido.\n"
     ]
    }
   ],
   "source": [
    "pizz_familiar = input('Buenas tardes, bienvenido al servicio de pedido online, \\n el precio de nuestra pizzas es de 8,95 para la familiar o de 9,90 para la mediana \\n ¿Cuántas pizas familiares desea?')\n",
    "pizz_familiar = int(float(pizz_familiar))\n",
    "\n",
    "pizz_mediana = input('Estupendo, ¿cuántas pizzas medianas desea?')\n",
    "pizz_mediana = int(float(pizz_mediana))\n",
    "\n",
    "print('Estupendo, se están preparando', pizz_familiar, 'pizzas familiares y', pizz_mediana,'pizzas medianas.')\n",
    "\n",
    "direcc = input('Digame su dirección')\n",
    "\n",
    "numero_pizzas = pizz_familiar + pizz_mediana\n",
    "monto_total = (pizz_familiar*8.95)+(pizz_mediana*9.90)\n",
    "monto_total = round(monto_total, 2)\n",
    "\n",
    "print('Le mandaremos las', numero_pizzas, 'pizzas a la dirección', direcc, '. Serán', monto_total, 'euros. Muchas gracias por su pedido.')"
   ]
  },
  {
   "cell_type": "markdown",
   "metadata": {
    "id": "f0oqoGDGNPxt"
   },
   "source": [
    "![ejercicio.png](./img/ejercicio.png)\n",
    "## Parte II\n",
    "\n",
    "Crea un programa que realice las siguientes acciones:\n",
    "\n",
    "1. Solicite al usuario que introduzca 3 números enteros separados por comas (por ejemplo: 1,2,3).\n",
    "2. Convierta esa entrada en una lista de números enteros.\n",
    "3. Utilizando funciones built-in, determine el número máximo, el número mínimo y la suma total de los números introducidos.\n",
    "4. Determine la verdad o falsedad de la siguiente afirmación: \"El número máximo menos el número mínimo es igual a la suma total dividida por 5\".\n",
    "5. Muestre los resultados utilizando print."
   ]
  },
  {
   "cell_type": "code",
   "execution_count": 13,
   "metadata": {},
   "outputs": [
    {
     "data": {
      "text/plain": [
       "13"
      ]
     },
     "execution_count": 13,
     "metadata": {},
     "output_type": "execute_result"
    }
   ],
   "source": [
    "val = [3, 4, 6]\n",
    "sum(val)"
   ]
  },
  {
   "cell_type": "code",
   "execution_count": 14,
   "metadata": {
    "id": "rAlpWiQ9NPxt"
   },
   "outputs": [
    {
     "name": "stdin",
     "output_type": "stream",
     "text": [
      "Hola buenos días, introduzca 3 números enteros separados por comas (por ejemplo: 1,2,3). 3, 4, 7\n"
     ]
    },
    {
     "name": "stdout",
     "output_type": "stream",
     "text": [
      "[3, 4, 7]\n",
      "Valor máximo: 7\n",
      "Valor mínimo: 3\n",
      "Suma total: 14\n",
      "La afirmación es: False\n"
     ]
    }
   ],
   "source": [
    "# 1. Solicite al usuario que introduzca 3 números enteros separados por comas (por ejemplo: 1,2,3).\n",
    "numeros = input('Hola buenos días, introduzca 3 números enteros separados por comas (por ejemplo: 1,2,3).')\n",
    "\n",
    "# 2. Convierta esa entrada en una lista de números enteros.\n",
    "lista_usuario = numeros.split(',')\n",
    "lista_usuario_num = []\n",
    "\n",
    "for num in lista_usuario:\n",
    "    valor = int(num)\n",
    "    lista_usuario_num.append(valor)\n",
    "print(lista_usuario_num)\n",
    "\n",
    "# 3. Utilizando funciones built-in, determine el número máximo, el número mínimo y la suma total de los números introducidos.\n",
    "num_max = max(lista_usuario_num)\n",
    "print('Valor máximo:', num_max)\n",
    "\n",
    "num_min = min(lista_usuario_num)\n",
    "print('Valor mínimo:', num_min)\n",
    "\n",
    "suma_total = sum(lista_usuario_num)\n",
    "print('Suma total:', suma_total)\n",
    "\n",
    "# 4. Determine la verdad o falsedad de la siguiente afirmación: \"El número máximo menos el número mínimo es igual a la suma total dividida por 5\".\n",
    "validacion_1 = num_max - num_min\n",
    "validacion_2 = suma_total/5\n",
    "afirmacion = validacion_1 == validacion_2\n",
    "\n",
    "print('La afirmación es:', afirmacion)"
   ]
  }
 ],
 "metadata": {
  "colab": {
   "provenance": []
  },
  "kernelspec": {
   "display_name": "Python 3 (ipykernel)",
   "language": "python",
   "name": "python3"
  },
  "language_info": {
   "codemirror_mode": {
    "name": "ipython",
    "version": 3
   },
   "file_extension": ".py",
   "mimetype": "text/x-python",
   "name": "python",
   "nbconvert_exporter": "python",
   "pygments_lexer": "ipython3",
   "version": "3.13.1"
  }
 },
 "nbformat": 4,
 "nbformat_minor": 4
}
