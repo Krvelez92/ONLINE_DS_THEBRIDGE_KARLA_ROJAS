{
 "cells": [
  {
   "cell_type": "markdown",
   "metadata": {
    "id": "vigJnuAMSU4x"
   },
   "source": [
    "![TheBridge_logo_RGB_color.jpg](attachment:TheBridge_logo_RGB_color.jpg)"
   ]
  },
  {
   "cell_type": "markdown",
   "metadata": {
    "id": "2xmnwM17SU4y"
   },
   "source": [
    "![ejercicios.png](attachment:ejercicios.png)"
   ]
  },
  {
   "cell_type": "markdown",
   "metadata": {
    "id": "liorA-1ZSU4y"
   },
   "source": [
    "# Ejercicios Clases y Objetos"
   ]
  },
  {
   "cell_type": "markdown",
   "metadata": {
    "id": "5xXUz5l9SU4z"
   },
   "source": [
    "## Ejercicio 1\n",
    "Somos una empresa que tiene varias tiendas de electrodomesticos. Necesitamos un programa para manejar las tiendas, ver las ventas que han tenido, cuántos empleados hay, etc... Para ello vamos a modelizar la tienda en una clase, que tendrá las siguientes características:\n",
    "* Nombre clase: \"Tienda\"\n",
    "* Atributos comunes:\n",
    "    * Tipo: \"Electrodomésticos\"\n",
    "    * Abierta: True\n",
    "* Atributos propios de cada tienda:\n",
    "    * Nombre - String\n",
    "    * Dirección - String\n",
    "    * Número de empleados - int\n",
    "    * Ventas ultimos 3 meses - Lista de 3 numeros\n",
    "* Método para calcular las ventas de todos los meses, que devuelva un numero con todas las ventas.\n",
    "* Método que calcula la media de ventas de los ultimos meses, por empleado\n",
    "* Método que devuelve en un string el nombre de la tienda, junto con su dirección.\n",
    "* Método que obtiene las ventas del último mes.\n",
    "* Método para dar una proyección de las ventas en caso de haber invertido X dinero en marketing en esa tienda. Siendo X el parámetro de entrada. Si X es menor de 1000, las ventas de los ultimos 3 meses hubiesen sido de (1.2 x ventas), si es mayor o igual de 1000, las ventas hubiesen sido de (1.5 x venta). El método reescribe el atributo de ventas en los últimos 3 meses, y además devuelve las ventas con el aumento.\n",
    "\n",
    "Se pide:\n",
    "1. Implementar la clase \"Tienda\"\n",
    "2. Crear tres tiendas con datos inventados\n",
    "3. Comprueba en al menos una de ellas, todo lo implementado en la clase tienda (sus atributos, media de ventas, ventas/empleado...)\n",
    "3. Calcular las ventas del último mes de todas las tiendas. Para ello usa el bucle `for`\n",
    "4. Imprime por pantalla los nombres de las tiendas cuya dirección lleve el string \"Avenida\"\n",
    "5. Seguro que ya has hecho este apartado... Documenta la clase :)"
   ]
  },
  {
   "cell_type": "code",
   "execution_count": 10,
   "metadata": {
    "id": "5cLQcLxfSU4z"
   },
   "outputs": [],
   "source": [
    "# 1. Implementar la clase \"Tienda\"\n",
    "class Tienda:\n",
    "    tipo = \"Electrodomésticos\"\n",
    "    abierta = True\n",
    "\n",
    "    def __init__(self, nombre : str, direccion : str, numero_empleados : int, ventas_3_meses : list, *args):\n",
    "        self.nombre = nombre\n",
    "        self.direccion = direccion\n",
    "        self.numero_empleados = numero_empleados\n",
    "        self.ventas_totales = list(args)\n",
    "        if isinstance(ventas_3_meses, list) and len(ventas_3_meses) == 3:\n",
    "            for i in ventas_3_meses:\n",
    "                if type(i) == int or type(i) == float:\n",
    "                    continue\n",
    "                else:\n",
    "                    raise ValueError(\"Las ventas deben ser una lista de 3 números.\")\n",
    "            \n",
    "            self.ventas_3_meses = ventas_3_meses\n",
    "        else:\n",
    "            raise ValueError(\"Las ventas deben ser una lista de 3 números.\")\n",
    "\n",
    "# Método para calcular las ventas de todos los meses, que devuelva un numero con todas las ventas.\n",
    "    def venta_totales(self):\n",
    "        resultado = sum(self.ventas_totales)\n",
    "        return resultado\n",
    "# Para este metodo he creado un atributo con inputs variables (*args) en donde se introduce las ventas no solo de los 3 meses sino \n",
    "    #de lo meses que quieras.\n",
    "\n",
    "    \n",
    "# Método que calcula la media de ventas de los ultimos meses, por empleado\n",
    "    def media_ventas(self):\n",
    "        resultado = sum(self.ventas_3_meses) / self.numero_empleados\n",
    "        return resultado\n",
    "\n",
    "# Método que devuelve en un string el nombre de la tienda, junto con su dirección.\n",
    "    def nombre_direccion_tienda(self):\n",
    "        resultado = 'La tienda se llama:' + self.nombre + ', su dirección es:' + self.direccion\n",
    "        return resultado\n",
    "\n",
    "# Método que obtiene las ventas del último mes.\n",
    "    def venta_ultimo_mes(self):\n",
    "        resultado = self.ventas_3_meses[-1]\n",
    "        return resultado\n",
    "        \n",
    "# Método para dar una proyección de las ventas en caso de haber invertido X dinero en marketing en esa tienda. \n",
    "# Siendo X el parámetro de entrada. Si X es menor de 1000, las ventas de los ultimos 3 meses hubiesen sido de (1.2 x ventas), \n",
    "# si es mayor o igual de 1000, las ventas hubiesen sido de (1.5 x venta). El método reescribe el atributo de ventas en los últimos 3 meses, \n",
    "# y además devuelve las ventas con el aumento.\n",
    "    def proyeccion(self, inversion):\n",
    "        if inversion < 1000:\n",
    "            venta = []\n",
    "            for i in self.ventas_3_meses:\n",
    "                i = i * 1.20\n",
    "                venta.append(i)\n",
    "        else:\n",
    "            venta = []\n",
    "            for i in self.ventas_3_meses:\n",
    "                i = i * 1.50\n",
    "                venta.append(i)\n",
    "        self.ventas_3_meses = venta\n",
    "        return self.ventas_3_meses"
   ]
  },
  {
   "cell_type": "code",
   "execution_count": 12,
   "metadata": {},
   "outputs": [
    {
     "name": "stdout",
     "output_type": "stream",
     "text": [
      "Electrodomésticos True polito Avenida llano castellano 2 31 [2, 434, 8.99] [1, 2, 2]\n",
      "Las ventas totales son: 5\n",
      "La media de las ventas de los ultimos 3 meses es: 14.354516129032259\n",
      "La direccion de la tienda es: La tienda se llama:polito, su dirección es:Avenida llano castellano 2\n",
      "La ventas del ultimo mes es: 8.99\n",
      "La proyeccion de las ventas es: [2.4, 520.8, 10.788]\n",
      "Las ventas del ultimo mes de las tiendas es: 8899.088\n",
      "La tienda, polito tiene la palabra Avenida en su direccion.\n",
      "La tienda, paco tiene la palabra Avenida en su direccion.\n"
     ]
    }
   ],
   "source": [
    "# 2. Crear tres tiendas con datos inventados\n",
    "polito = Tienda('polito', 'Avenida llano castellano 2', 31, [2, 434, 8.99], 1, 2, 2)\n",
    "burgerking = Tienda('burgerking', 'Calle San Modesto 42', 15, [33454, 4343, 8435.3], 45435, 34534.3, 3452345, 344324, 123423, 123434)\n",
    "paco = Tienda('paco', 'Avenida Tomas de Juan 43', 4, [50, 24, 453], 344, 656, 2000, 3245, 450)\n",
    "\n",
    "# 3. Comprueba en al menos una de ellas, todo lo implementado en la clase tienda (sus atributos, media de ventas, ventas/empleado...)\n",
    "print(polito.tipo, polito.abierta, polito.nombre, polito.direccion, polito.numero_empleados, polito.ventas_3_meses, polito.ventas_totales)\n",
    "print('Las ventas totales son:',polito.venta_totales())\n",
    "print('La media de las ventas de los ultimos 3 meses es:', polito.media_ventas())\n",
    "print('La direccion de la tienda es:', polito.nombre_direccion_tienda())\n",
    "print('La ventas del ultimo mes es:', polito.venta_ultimo_mes())\n",
    "print('La proyeccion de las ventas es:', polito.proyeccion(900))\n",
    "\n",
    "# 4. Calcular las ventas del último mes de todas las tiendas. Para ello usa el bucle for\n",
    "tiendas = [polito, burgerking, paco]\n",
    "venta = []\n",
    "for i in tiendas:\n",
    "    venta.append(i.venta_ultimo_mes())\n",
    "total_ventas_tiendas = sum(venta)\n",
    "print('Las ventas del ultimo mes de las tiendas es:', total_ventas_tiendas)\n",
    "\n",
    "# 5. Imprime por pantalla los nombres de las tiendas cuya dirección lleve el string \"Avenida\"\n",
    "for i in tiendas:\n",
    "    if 'Avenida' in i.direccion:\n",
    "        print('La tienda,', i.nombre, 'tiene la palabra Avenida en su direccion.')\n",
    "    else:\n",
    "        continue\n"
   ]
  },
  {
   "cell_type": "markdown",
   "metadata": {
    "id": "WEBq7EpsSU40"
   },
   "source": [
    "## Ejercicio 2\n",
    "En este ejercicio vamos a implementar una clase *Perro* en Python. La clase tiene las siguientes características:\n",
    "* Cosas que sabemos seguro que tiene un perro\n",
    "    * Tiene 4 patas\n",
    "    * 2 orejas\n",
    "    * 2 ojos\n",
    "    * Una velocidad de 0. Por defecto, el perro está parado\n",
    "* Cuando se inicialice:\n",
    "    * El perro será de una determinada raza\n",
    "    * Por defecto tendrá pelo \"Marrón\", a no ser que se diga lo contrario.\n",
    "    * Por defecto no tendrá dueño, a no ser que se diga lo contrario.\n",
    "    \n",
    "* Dispondrá también de un método llamado andar, que tiene un argumento de entrada (aumento_velocidad). Este valor se le sumará a la velocidad que ya llevaba el perro.\n",
    "* Necesita otro método (parar), donde pondremos la velocidad a 0.\n",
    "* Otro método llamado \"ladrar\", que tendrá un argumento de entrada, y la salida será el siguiente string: \"GUAU!\" + el argumento de entrada.\n",
    "\n",
    "\n",
    "Se pide:\n",
    "* Implementa la clase *Perro*\n",
    "* Crea un objeto de tipo *Perro*, sin dueño\n",
    "* Comprueba que están bien todos sus atributos\n",
    "* Prueba que ande, y comprueba su velocidad\n",
    "* Páralo\n",
    "* Documenta la clase *Perro*"
   ]
  },
  {
   "cell_type": "code",
   "execution_count": 17,
   "metadata": {
    "id": "DpEWvbwGSU40"
   },
   "outputs": [],
   "source": [
    "class Perro:\n",
    "    patas = 4\n",
    "    orejas = 2\n",
    "    ojos = 2\n",
    "    velocidad = 0\n",
    "\n",
    "    def __init__(self, raza, pelo = 'marron', duenio = 'ninguno'):\n",
    "        self.raza = raza\n",
    "        self.pelo = pelo\n",
    "        self.duenio = duenio\n",
    "\n",
    "# Dispondrá también de un método llamado andar, que tiene un argumento de entrada (aumento_velocidad). \n",
    "# Este valor se le sumará a la velocidad que ya llevaba el perro.\n",
    "    def andar(self, aumento_velocidad):\n",
    "        self.velocidad = self.velocidad + aumento_velocidad\n",
    "        return self.velocidad\n",
    "\n",
    "# Necesita otro método (parar), donde pondremos la velocidad a 0.\n",
    "    def parar(self):\n",
    "        self.velocidad = 0\n",
    "        return self.velocidad\n",
    "\n",
    "# Otro método llamado \"ladrar\", que tendrá un argumento de entrada, y la salida será el siguiente string: \"GUAU!\" + el argumento de entrada.\n",
    "    def ladrar(self, argumento):\n",
    "        resultado = 'GUAU!'+ str(argumento)\n",
    "        return resultado\n"
   ]
  },
  {
   "cell_type": "code",
   "execution_count": 20,
   "metadata": {},
   "outputs": [
    {
     "name": "stdout",
     "output_type": "stream",
     "text": [
      "El dueño del perro es: ninguno\n",
      "Patas: 4\n",
      "Orejas: 2\n",
      "Ojos 2\n",
      "Velocidad 0\n",
      "Raza pug\n",
      "Pelo: blanco\n",
      "Dueño: ninguno\n",
      "Su velocidad inicial es: 0\n",
      "Al andar su velocidad es: 4\n",
      "Al detenerse su velocidad es: 0\n",
      "Y el perro dice: GUAU!Se acabo!\n"
     ]
    }
   ],
   "source": [
    "# Crea un objeto de tipo Perro, sin dueño\n",
    "perro_sin_dueno = Perro('pug', 'blanco')\n",
    "print('El dueño del perro es:', perro_sin_dueno.duenio)\n",
    "\n",
    "# Comprueba que están bien todos sus atributos\n",
    "print('Patas:', perro_sin_dueno.patas)\n",
    "print('Orejas:', perro_sin_dueno.orejas)\n",
    "print('Ojos', perro_sin_dueno.ojos)\n",
    "print('Velocidad', perro_sin_dueno.velocidad)\n",
    "print('Raza', perro_sin_dueno.raza)\n",
    "print('Pelo:', perro_sin_dueno.pelo)\n",
    "print('Dueño:', perro_sin_dueno.duenio)\n",
    "    \n",
    "# Prueba que ande, y comprueba su velocidad\n",
    "print('Su velocidad inicial es:', perro_sin_dueno.velocidad)\n",
    "caminar = perro_sin_dueno.andar(4)\n",
    "print('Al andar su velocidad es:', perro_sin_dueno.velocidad) \n",
    "      \n",
    "# Páralo\n",
    "detener = perro_sin_dueno.parar()\n",
    "print('Al detenerse su velocidad es:', perro_sin_dueno.velocidad) \n",
    "\n",
    "print('Y el perro dice:', perro_sin_dueno.ladrar('Se acabo!'))"
   ]
  }
 ],
 "metadata": {
  "colab": {
   "provenance": []
  },
  "kernelspec": {
   "display_name": "Python 3 (ipykernel)",
   "language": "python",
   "name": "python3"
  },
  "language_info": {
   "codemirror_mode": {
    "name": "ipython",
    "version": 3
   },
   "file_extension": ".py",
   "mimetype": "text/x-python",
   "name": "python",
   "nbconvert_exporter": "python",
   "pygments_lexer": "ipython3",
   "version": "3.13.1"
  }
 },
 "nbformat": 4,
 "nbformat_minor": 4
}
